{
 "cells": [
  {
   "cell_type": "markdown",
   "id": "a3ba3449",
   "metadata": {
    "jp-MarkdownHeadingCollapsed": true,
    "slideshow": {
     "slide_type": "slide"
    },
    "tags": []
   },
   "source": [
    "# InsertTeamCode"
   ]
  },
  {
   "cell_type": "markdown",
   "id": "22df6000-645f-4546-9844-ff3cb69b9e1a",
   "metadata": {
    "jp-MarkdownHeadingCollapsed": true,
    "tags": []
   },
   "source": [
    "# Background Information"
   ]
  },
  {
   "cell_type": "markdown",
   "id": "45668632",
   "metadata": {
    "jp-MarkdownHeadingCollapsed": true,
    "slideshow": {
     "slide_type": "subslide"
    },
    "tags": []
   },
   "source": [
    "## The Max-Cut problem\n",
    "\n",
    "Background information was provided by Callum Macpherson, \"The Quantum Approximate Optimisation Algorithm (QAOA) using TKET.\"\n",
    "\n"
   ]
  },
  {
   "cell_type": "code",
   "execution_count": 1,
   "id": "9456fbeb",
   "metadata": {
    "slideshow": {
     "slide_type": "fragment"
    }
   },
   "outputs": [
    {
     "data": {
      "image/png": "[encoded data removed]",
      "text/plain": [
       "<Figure size 144x144 with 1 Axes>"
      ]
     },
     "metadata": {},
     "output_type": "display_data"
    }
   ],
   "source": [
    "import networkx as nx\n",
    "import matplotlib.pyplot as plt\n",
    "G = nx.Graph()\n",
    "G.add_edges_from([(0,1), (1,2), (2,0)])\n",
    "plt.figure(figsize=(2,2))\n",
    "nx.draw(G, node_color=['red', 'blue', 'red'])\n",
    "plt.show()"
   ]
  },
  {
   "cell_type": "markdown",
   "id": "cad41481",
   "metadata": {
    "slideshow": {
     "slide_type": "fragment"
    }
   },
   "source": [
    "There are \\\\(2^3\\\\) possible assignments of colour to nodes. In general there are \\\\( 2^n \\\\). The Max-cut problem can then be stated as that of finding the colour assignment which maximises the number of edges between vertices of a different colour."
   ]
  },
  {
   "cell_type": "markdown",
   "id": "7389bbe5",
   "metadata": {
    "jp-MarkdownHeadingCollapsed": true,
    "slideshow": {
     "slide_type": "subslide"
    },
    "tags": []
   },
   "source": [
    "## Quantum Approximate Optimization Algorithm (QAOA)\n",
    "\n",
    "Introduced in 'A Quantum Approximate Optimization Algorithm' (found at https://arxiv.org/abs/1411.4028). The idea is to prepare a quantum state which encodes a solution to the Max-cut problem.\n",
    "\n",
    "\n",
    "This is a variational algorithm, which is to say that a paramaterised state is prepared, with the parameters varied to improve the solution. We will have $2p$ parameters where p is our number of layers. In particular, the state prepared has the form \n",
    "\n",
    "\n",
    "\n",
    "\\\\[ \\left| \\psi \\left( \\beta, \\gamma \\right) \\right\\rangle = U \\left( \\beta_m \\right) U \\left( \\gamma_m \\right) ... U \\left( \\beta_0 \\right) U \\left( \\gamma_0 \\right) \\left| \\psi_0 \\right\\rangle \\\\]\n",
    "where\n",
    "\\\\[ U \\left( \\beta_i \\right) = e^{i \\beta H_B} \\quad \\& \\quad U \\left( \\gamma_i \\right) = e^{i \\gamma H_P} \\\\]\n",
    "with \\\\( H_B \\\\) and \\\\( H_P \\\\) depending on the problem instance. "
   ]
  },
  {
   "cell_type": "markdown",
   "id": "de6b9e03",
   "metadata": {
    "jp-MarkdownHeadingCollapsed": true,
    "tags": []
   },
   "source": [
    "## Cost function for Maxcut\n",
    "\n",
    "A solution to maxcut can be found by maximising the following cost function $C$ .\n",
    "\n",
    "\n",
    "\n",
    "$$\n",
    "\\begin{equation}\n",
    "C= \\sum_{(i,j)} x_i(1-x_j)\n",
    "\\end{equation}\n",
    "$$\n",
    "\n",
    "Here $x_i$ and $x_j$ are the the \"colours\" of each vertex.  \n",
    "\n",
    "$$\n",
    "\\begin{equation}\n",
    "x_i,x_j \\in \\{0,1\\}\n",
    "\\end{equation}\n",
    "$$\n",
    "\n",
    "$x_i(1-x_j)=0$ if $x_i=x_j$ and $ x_i(1-x_j)=1$ if the terms are not equal."
   ]
  },
  {
   "cell_type": "markdown",
   "id": "61d4e798",
   "metadata": {
    "slideshow": {
     "slide_type": "slide"
    }
   },
   "source": [
    "We want to encode our Maxcut cost function as a Hamiltonain. To do this we can perform the following translation.\n",
    "\n",
    "$$\n",
    "\\begin{equation}\n",
    "x_i \\mapsto \\frac{1}{2}(1-Z_i)\n",
    "\\end{equation}\n",
    "$$\n",
    "\n",
    "\n",
    "The Pauli Z operator can be used to distinguish between the $|0\\rangle$ and $|1\\rangle$ basis states as these are eigenstates with eigenvalues $\\pm 1$ .\n",
    "\n",
    "$$\n",
    "\\begin{equation}\n",
    "H_P = \\frac{1}{2}\\sum_{<jk>} (-Z_j \\,Z_k +I )\n",
    "\\end{equation}\n",
    "$$\n",
    "\n",
    "\n",
    "$$\n",
    "\\begin{equation}\n",
    "H_B = \\sum_i X_i\n",
    "\\end{equation}\n",
    "$$\n",
    "\n",
    "Here we use the the convention that $X_i$ means a Pauli X operator will be applied to the \"ith\" qubit and the identity operator will be applied to all other qubits in the circuit."
   ]
  },
  {
   "cell_type": "code",
   "execution_count": 2,
   "id": "aeb6abd9",
   "metadata": {
    "slideshow": {
     "slide_type": "skip"
    }
   },
   "outputs": [],
   "source": [
    "import warnings\n",
    "warnings.filterwarnings(\"ignore\")"
   ]
  },
  {
   "cell_type": "markdown",
   "id": "3cbb783a",
   "metadata": {
    "slideshow": {
     "slide_type": "slide"
    }
   },
   "source": [
    "## Circuit Construction for QAOA"
   ]
  },
  {
   "cell_type": "code",
   "execution_count": 3,
   "id": "688f1332",
   "metadata": {
    "slideshow": {
     "slide_type": "slide"
    }
   },
   "outputs": [
    {
     "data": {
      "image/png": "[encoded data removed]",
      "text/plain": [
       "<Figure size 432x288 with 1 Axes>"
      ]
     },
     "metadata": {},
     "output_type": "display_data"
    }
   ],
   "source": [
    "import networkx as nx\n",
    "\n",
    "max_cut_graph_edges = [(0,1), (1,2), (1,3), (3,4), (4,5), (4,6)]\n",
    "n_nodes = 7\n",
    "\n",
    "max_cut_graph = nx.Graph()\n",
    "max_cut_graph.add_edges_from(max_cut_graph_edges)\n",
    "nx.draw(max_cut_graph, labels={node: node for node in max_cut_graph.nodes()})\n",
    "\n",
    "expected_results = [(0,1,0,0,1,0,0), (1,0,1,1,0,1,1)]"
   ]
  },
  {
   "cell_type": "markdown",
   "id": "18a5bd16",
   "metadata": {
    "slideshow": {
     "slide_type": "slide"
    }
   },
   "source": [
    "## Define Cost Hamiltonian: $\\gamma H$"
   ]
  },
  {
   "cell_type": "markdown",
   "id": "543f87ca",
   "metadata": {},
   "source": [
    "$$\n",
    "\\begin{equation}\n",
    "H_P = \\frac{1}{2}\\sum_{<jk>} (-Z_j \\,Z_k +I )\n",
    "\\end{equation}\n",
    "$$"
   ]
  },
  {
   "cell_type": "code",
   "execution_count": 4,
   "id": "99226b24",
   "metadata": {
    "scrolled": true,
    "slideshow": {
     "slide_type": "fragment"
    }
   },
   "outputs": [
    {
     "name": "stdout",
     "output_type": "stream",
     "text": [
      "{(): 3.00000000000000, (Zq[0], Zq[1]): -0.500000000000000, (Zq[1], Zq[2]): -0.500000000000000, (Zq[1], Zq[3]): -0.500000000000000, (Zq[3], Zq[4]): -0.500000000000000, (Zq[4], Zq[5]): -0.500000000000000, (Zq[4], Zq[6]): -0.500000000000000}\n"
     ]
    }
   ],
   "source": [
    "from typing import List, Tuple, Any\n",
    "from pytket.utils import QubitPauliOperator\n",
    "from pytket.pauli import QubitPauliString, Pauli\n",
    "from pytket import Qubit\n",
    "\n",
    "def qaoa_graph_to_cost_hamiltonian(edges: List[Tuple[int, int]], cost_angle: float) -> QubitPauliOperator:\n",
    "    qpo_dict = {QubitPauliString(): len(edges)*0.5*cost_angle}\n",
    "    for e in edges:\n",
    "        term_string = QubitPauliString([Qubit(e[0]), Qubit(e[1])], [Pauli.Z, Pauli.Z])\n",
    "        qpo_dict[term_string] = -0.5*cost_angle\n",
    "    return QubitPauliOperator(qpo_dict)\n",
    "\n",
    "cost_angle = 1.0\n",
    "cost_ham_qpo = qaoa_graph_to_cost_hamiltonian(max_cut_graph_edges, cost_angle)\n",
    "print(cost_ham_qpo)"
   ]
  },
  {
   "cell_type": "markdown",
   "id": "6da499ac",
   "metadata": {
    "slideshow": {
     "slide_type": "fragment"
    }
   },
   "source": [
    "$$\n",
    "\\begin{equation}\n",
    "H_P = 3 I^{\\otimes 6} -0.5 \\big[ Z_0 Z_1 + Z_1 Z_2 +Z_1 Z_3 +Z_3 Z_4 +Z_4 Z_5 +Z_4 Z_6  \\big]\n",
    "\\end{equation}\n",
    "$$\n",
    "\n",
    "Using the same index convention as above"
   ]
  },
  {
   "cell_type": "markdown",
   "id": "785ff56c",
   "metadata": {
    "slideshow": {
     "slide_type": "slide"
    }
   },
   "source": [
    "## Hamiltonian Circuit"
   ]
  },
  {
   "cell_type": "code",
   "execution_count": 5,
   "id": "11fe9917",
   "metadata": {
    "slideshow": {
     "slide_type": "fragment"
    }
   },
   "outputs": [
    {
     "data": {
      "text/html": [
       "\n",
       "\n",
       "\n",
       "\n",
       "\n",
       "\n",
       "<iframe srcdoc=\"\n",
       "&lt;!DOCTYPE html&gt;\n",
       "&lt;html lang=&#34;en&#34;&gt;\n",
       "&lt;head&gt;\n",
       "    &lt;meta charset=&#34;UTF-8&#34;&gt;\n",
       "    &lt;script type=&#34;application/javascript&#34; src=&#34;https://cdn.jsdelivr.net/npm/vue@3&#34;&gt;&lt;/script&gt;\n",
       "    &lt;script type=&#34;application/javascript&#34; src=&#34;https://unpkg.com/pytket-circuit-renderer@0.3/dist/pytket-circuit-renderer.umd.js&#34;&gt;&lt;/script&gt;\n",
       "    &lt;link rel=&#34;stylesheet&#34; href=&#34;https://unpkg.com/pytket-circuit-renderer@0.3/dist/pytket-circuit-renderer.css&#34;&gt;\n",
       "&lt;/head&gt;\n",
       "&lt;body&gt;\n",
       "    &lt;div id=&#34;circuit-display-vue-container-63763598-63d7-4fd1-9015-4a87ca4086c1&#34; class=&#34;pytket-circuit-display-container&#34;&gt;\n",
       "        &lt;div style=&#34;display: none&#34;&gt;\n",
       "            &lt;div id=&#34;circuit-json-to-display&#34;&gt;{&#34;bits&#34;: [], &#34;commands&#34;: [{&#34;args&#34;: [[&#34;q&#34;, [0]], [&#34;q&#34;, [1]], [&#34;q&#34;, [2]], [&#34;q&#34;, [3]], [&#34;q&#34;, [4]], [&#34;q&#34;, [5]], [&#34;q&#34;, [6]]], &#34;op&#34;: {&#34;box&#34;: {&#34;circuit&#34;: {&#34;bits&#34;: [], &#34;commands&#34;: [{&#34;args&#34;: [[&#34;q&#34;, [0]], [&#34;q&#34;, [1]]], &#34;op&#34;: {&#34;box&#34;: {&#34;id&#34;: &#34;423e80d1-4071-4656-910e-b009b5febf91&#34;, &#34;paulis&#34;: [&#34;Z&#34;, &#34;Z&#34;], &#34;phase&#34;: &#34;-0.5&#34;, &#34;type&#34;: &#34;PauliExpBox&#34;}, &#34;type&#34;: &#34;PauliExpBox&#34;}}, {&#34;args&#34;: [[&#34;q&#34;, [1]], [&#34;q&#34;, [2]]], &#34;op&#34;: {&#34;box&#34;: {&#34;id&#34;: &#34;7ef5020d-bf80-40ac-9039-120feb31cc54&#34;, &#34;paulis&#34;: [&#34;Z&#34;, &#34;Z&#34;], &#34;phase&#34;: &#34;-0.5&#34;, &#34;type&#34;: &#34;PauliExpBox&#34;}, &#34;type&#34;: &#34;PauliExpBox&#34;}}, {&#34;args&#34;: [[&#34;q&#34;, [1]], [&#34;q&#34;, [3]]], &#34;op&#34;: {&#34;box&#34;: {&#34;id&#34;: &#34;65cb0c2f-8425-4e30-a088-0b0cc2640b22&#34;, &#34;paulis&#34;: [&#34;Z&#34;, &#34;Z&#34;], &#34;phase&#34;: &#34;-0.5&#34;, &#34;type&#34;: &#34;PauliExpBox&#34;}, &#34;type&#34;: &#34;PauliExpBox&#34;}}, {&#34;args&#34;: [[&#34;q&#34;, [3]], [&#34;q&#34;, [4]]], &#34;op&#34;: {&#34;box&#34;: {&#34;id&#34;: &#34;531f08a8-5b0a-40f7-92b1-8c6f0913fbf7&#34;, &#34;paulis&#34;: [&#34;Z&#34;, &#34;Z&#34;], &#34;phase&#34;: &#34;-0.5&#34;, &#34;type&#34;: &#34;PauliExpBox&#34;}, &#34;type&#34;: &#34;PauliExpBox&#34;}}, {&#34;args&#34;: [[&#34;q&#34;, [4]], [&#34;q&#34;, [5]]], &#34;op&#34;: {&#34;box&#34;: {&#34;id&#34;: &#34;f0c1c504-a552-43ca-b41f-105cc14b9bb9&#34;, &#34;paulis&#34;: [&#34;Z&#34;, &#34;Z&#34;], &#34;phase&#34;: &#34;-0.5&#34;, &#34;type&#34;: &#34;PauliExpBox&#34;}, &#34;type&#34;: &#34;PauliExpBox&#34;}}, {&#34;args&#34;: [[&#34;q&#34;, [4]], [&#34;q&#34;, [6]]], &#34;op&#34;: {&#34;box&#34;: {&#34;id&#34;: &#34;4c58e54d-c90e-424d-9f74-ef065d81ed23&#34;, &#34;paulis&#34;: [&#34;Z&#34;, &#34;Z&#34;], &#34;phase&#34;: &#34;-0.5&#34;, &#34;type&#34;: &#34;PauliExpBox&#34;}, &#34;type&#34;: &#34;PauliExpBox&#34;}}], &#34;created_qubits&#34;: [], &#34;discarded_qubits&#34;: [], &#34;implicit_permutation&#34;: [[[&#34;q&#34;, [0]], [&#34;q&#34;, [0]]], [[&#34;q&#34;, [1]], [&#34;q&#34;, [1]]], [[&#34;q&#34;, [2]], [&#34;q&#34;, [2]]], [[&#34;q&#34;, [3]], [&#34;q&#34;, [3]]], [[&#34;q&#34;, [4]], [&#34;q&#34;, [4]]], [[&#34;q&#34;, [5]], [&#34;q&#34;, [5]]], [[&#34;q&#34;, [6]], [&#34;q&#34;, [6]]]], &#34;phase&#34;: &#34;0.5&#34;, &#34;qubits&#34;: [[&#34;q&#34;, [0]], [&#34;q&#34;, [1]], [&#34;q&#34;, [2]], [&#34;q&#34;, [3]], [&#34;q&#34;, [4]], [&#34;q&#34;, [5]], [&#34;q&#34;, [6]]]}, &#34;id&#34;: &#34;021d6559-0cb3-4f5e-ad8d-b8ef3d83fc9b&#34;, &#34;type&#34;: &#34;CircBox&#34;}, &#34;type&#34;: &#34;CircBox&#34;}}], &#34;created_qubits&#34;: [], &#34;discarded_qubits&#34;: [], &#34;implicit_permutation&#34;: [[[&#34;q&#34;, [0]], [&#34;q&#34;, [0]]], [[&#34;q&#34;, [1]], [&#34;q&#34;, [1]]], [[&#34;q&#34;, [2]], [&#34;q&#34;, [2]]], [[&#34;q&#34;, [3]], [&#34;q&#34;, [3]]], [[&#34;q&#34;, [4]], [&#34;q&#34;, [4]]], [[&#34;q&#34;, [5]], [&#34;q&#34;, [5]]], [[&#34;q&#34;, [6]], [&#34;q&#34;, [6]]]], &#34;phase&#34;: &#34;0.0&#34;, &#34;qubits&#34;: [[&#34;q&#34;, [0]], [&#34;q&#34;, [1]], [&#34;q&#34;, [2]], [&#34;q&#34;, [3]], [&#34;q&#34;, [4]], [&#34;q&#34;, [5]], [&#34;q&#34;, [6]]]}&lt;/div&gt;\n",
       "        &lt;/div&gt;\n",
       "        &lt;circuit-display-container :circuit-element-str=&#34;&#39;#circuit-json-to-display&#39;&#34;&gt;&lt;/circuit-display-container&gt;\n",
       "    &lt;/div&gt;\n",
       "    &lt;script type=&#34;application/javascript&#34;&gt;\n",
       "        const { createApp } = Vue;\n",
       "        const circuitDisplayContainer = window[&#34;pytket-circuit-renderer&#34;].default;\n",
       "        // Init variables to be shared between circuit display instances\n",
       "        if (typeof window.pytketCircuitDisplays === &#34;undefined&#34;) {\n",
       "            window.pytketCircuitDisplays = {};\n",
       "        }\n",
       "        const uid = &#34;63763598-63d7-4fd1-9015-4a87ca4086c1&#34;;\n",
       "        // Create the root Vue component\n",
       "        const app = createApp({\n",
       "            delimiters: [&#39;[[#&#39;, &#39;#]]&#39;],\n",
       "            components: { circuitDisplayContainer },\n",
       "        })\n",
       "        app.config.unwrapInjectedRef = true;\n",
       "        app.mount(&#34;#circuit-display-vue-container-&#34;+uid);\n",
       "        window.pytketCircuitDisplays[uid] = app;\n",
       "    &lt;/script&gt;\n",
       "&lt;/body&gt;\n",
       "&lt;/html&gt;\n",
       "\"\n",
       "        width=\"100%\" height=\"200px\"\n",
       "        style=\"border: none; outline: none; resize: vertical; overflow: auto\"></iframe>\n",
       "\n"
      ],
      "text/plain": [
       "<IPython.core.display.HTML object>"
      ]
     },
     "metadata": {},
     "output_type": "display_data"
    }
   ],
   "source": [
    "from pytket.utils import gen_term_sequence_circuit\n",
    "from pytket import Circuit\n",
    "from pytket.circuit import display\n",
    "\n",
    "cost_ham_circuit = gen_term_sequence_circuit(cost_ham_qpo, Circuit(n_nodes))\n",
    "display.render_circuit_jupyter(cost_ham_circuit)"
   ]
  },
  {
   "cell_type": "code",
   "execution_count": 6,
   "id": "9057c55f",
   "metadata": {
    "slideshow": {
     "slide_type": "slide"
    }
   },
   "outputs": [
    {
     "data": {
      "text/html": [
       "\n",
       "\n",
       "\n",
       "\n",
       "\n",
       "\n",
       "<iframe srcdoc=\"\n",
       "&lt;!DOCTYPE html&gt;\n",
       "&lt;html lang=&#34;en&#34;&gt;\n",
       "&lt;head&gt;\n",
       "    &lt;meta charset=&#34;UTF-8&#34;&gt;\n",
       "    &lt;script type=&#34;application/javascript&#34; src=&#34;https://cdn.jsdelivr.net/npm/vue@3&#34;&gt;&lt;/script&gt;\n",
       "    &lt;script type=&#34;application/javascript&#34; src=&#34;https://unpkg.com/pytket-circuit-renderer@0.3/dist/pytket-circuit-renderer.umd.js&#34;&gt;&lt;/script&gt;\n",
       "    &lt;link rel=&#34;stylesheet&#34; href=&#34;https://unpkg.com/pytket-circuit-renderer@0.3/dist/pytket-circuit-renderer.css&#34;&gt;\n",
       "&lt;/head&gt;\n",
       "&lt;body&gt;\n",
       "    &lt;div id=&#34;circuit-display-vue-container-ebe06a81-0aa9-43e8-8b92-92bca903196d&#34; class=&#34;pytket-circuit-display-container&#34;&gt;\n",
       "        &lt;div style=&#34;display: none&#34;&gt;\n",
       "            &lt;div id=&#34;circuit-json-to-display&#34;&gt;{&#34;bits&#34;: [], &#34;commands&#34;: [{&#34;args&#34;: [[&#34;q&#34;, [1]], [&#34;q&#34;, [0]]], &#34;op&#34;: {&#34;type&#34;: &#34;CX&#34;}}, {&#34;args&#34;: [[&#34;q&#34;, [0]]], &#34;op&#34;: {&#34;params&#34;: [&#34;-0.5&#34;], &#34;type&#34;: &#34;Rz&#34;}}, {&#34;args&#34;: [[&#34;q&#34;, [1]], [&#34;q&#34;, [0]]], &#34;op&#34;: {&#34;type&#34;: &#34;CX&#34;}}, {&#34;args&#34;: [[&#34;q&#34;, [2]], [&#34;q&#34;, [1]]], &#34;op&#34;: {&#34;type&#34;: &#34;CX&#34;}}, {&#34;args&#34;: [[&#34;q&#34;, [1]]], &#34;op&#34;: {&#34;params&#34;: [&#34;-0.5&#34;], &#34;type&#34;: &#34;Rz&#34;}}, {&#34;args&#34;: [[&#34;q&#34;, [2]], [&#34;q&#34;, [1]]], &#34;op&#34;: {&#34;type&#34;: &#34;CX&#34;}}, {&#34;args&#34;: [[&#34;q&#34;, [3]], [&#34;q&#34;, [1]]], &#34;op&#34;: {&#34;type&#34;: &#34;CX&#34;}}, {&#34;args&#34;: [[&#34;q&#34;, [1]]], &#34;op&#34;: {&#34;params&#34;: [&#34;-0.5&#34;], &#34;type&#34;: &#34;Rz&#34;}}, {&#34;args&#34;: [[&#34;q&#34;, [3]], [&#34;q&#34;, [1]]], &#34;op&#34;: {&#34;type&#34;: &#34;CX&#34;}}, {&#34;args&#34;: [[&#34;q&#34;, [4]], [&#34;q&#34;, [3]]], &#34;op&#34;: {&#34;type&#34;: &#34;CX&#34;}}, {&#34;args&#34;: [[&#34;q&#34;, [3]]], &#34;op&#34;: {&#34;params&#34;: [&#34;-0.5&#34;], &#34;type&#34;: &#34;Rz&#34;}}, {&#34;args&#34;: [[&#34;q&#34;, [4]], [&#34;q&#34;, [3]]], &#34;op&#34;: {&#34;type&#34;: &#34;CX&#34;}}, {&#34;args&#34;: [[&#34;q&#34;, [5]], [&#34;q&#34;, [4]]], &#34;op&#34;: {&#34;type&#34;: &#34;CX&#34;}}, {&#34;args&#34;: [[&#34;q&#34;, [4]]], &#34;op&#34;: {&#34;params&#34;: [&#34;-0.5&#34;], &#34;type&#34;: &#34;Rz&#34;}}, {&#34;args&#34;: [[&#34;q&#34;, [5]], [&#34;q&#34;, [4]]], &#34;op&#34;: {&#34;type&#34;: &#34;CX&#34;}}, {&#34;args&#34;: [[&#34;q&#34;, [6]], [&#34;q&#34;, [4]]], &#34;op&#34;: {&#34;type&#34;: &#34;CX&#34;}}, {&#34;args&#34;: [[&#34;q&#34;, [4]]], &#34;op&#34;: {&#34;params&#34;: [&#34;-0.5&#34;], &#34;type&#34;: &#34;Rz&#34;}}, {&#34;args&#34;: [[&#34;q&#34;, [6]], [&#34;q&#34;, [4]]], &#34;op&#34;: {&#34;type&#34;: &#34;CX&#34;}}], &#34;created_qubits&#34;: [], &#34;discarded_qubits&#34;: [], &#34;implicit_permutation&#34;: [[[&#34;q&#34;, [0]], [&#34;q&#34;, [0]]], [[&#34;q&#34;, [1]], [&#34;q&#34;, [1]]], [[&#34;q&#34;, [2]], [&#34;q&#34;, [2]]], [[&#34;q&#34;, [3]], [&#34;q&#34;, [3]]], [[&#34;q&#34;, [4]], [&#34;q&#34;, [4]]], [[&#34;q&#34;, [5]], [&#34;q&#34;, [5]]], [[&#34;q&#34;, [6]], [&#34;q&#34;, [6]]]], &#34;phase&#34;: &#34;0.5&#34;, &#34;qubits&#34;: [[&#34;q&#34;, [0]], [&#34;q&#34;, [1]], [&#34;q&#34;, [2]], [&#34;q&#34;, [3]], [&#34;q&#34;, [4]], [&#34;q&#34;, [5]], [&#34;q&#34;, [6]]]}&lt;/div&gt;\n",
       "        &lt;/div&gt;\n",
       "        &lt;circuit-display-container :circuit-element-str=&#34;&#39;#circuit-json-to-display&#39;&#34;&gt;&lt;/circuit-display-container&gt;\n",
       "    &lt;/div&gt;\n",
       "    &lt;script type=&#34;application/javascript&#34;&gt;\n",
       "        const { createApp } = Vue;\n",
       "        const circuitDisplayContainer = window[&#34;pytket-circuit-renderer&#34;].default;\n",
       "        // Init variables to be shared between circuit display instances\n",
       "        if (typeof window.pytketCircuitDisplays === &#34;undefined&#34;) {\n",
       "            window.pytketCircuitDisplays = {};\n",
       "        }\n",
       "        const uid = &#34;ebe06a81-0aa9-43e8-8b92-92bca903196d&#34;;\n",
       "        // Create the root Vue component\n",
       "        const app = createApp({\n",
       "            delimiters: [&#39;[[#&#39;, &#39;#]]&#39;],\n",
       "            components: { circuitDisplayContainer },\n",
       "        })\n",
       "        app.config.unwrapInjectedRef = true;\n",
       "        app.mount(&#34;#circuit-display-vue-container-&#34;+uid);\n",
       "        window.pytketCircuitDisplays[uid] = app;\n",
       "    &lt;/script&gt;\n",
       "&lt;/body&gt;\n",
       "&lt;/html&gt;\n",
       "\"\n",
       "        width=\"100%\" height=\"200px\"\n",
       "        style=\"border: none; outline: none; resize: vertical; overflow: auto\"></iframe>\n",
       "\n"
      ],
      "text/plain": [
       "<IPython.core.display.HTML object>"
      ]
     },
     "metadata": {},
     "output_type": "display_data"
    }
   ],
   "source": [
    "from pytket.transform import Transform\n",
    "\n",
    "Transform.DecomposeBoxes().apply(cost_ham_circuit)\n",
    "display.render_circuit_jupyter(cost_ham_circuit)"
   ]
  },
  {
   "cell_type": "markdown",
   "id": "4690b787",
   "metadata": {
    "slideshow": {
     "slide_type": "slide"
    }
   },
   "source": [
    "## Construction of the Mixer Hamiltonian: $\\beta B$"
   ]
  },
  {
   "cell_type": "code",
   "execution_count": 7,
   "id": "296c560d",
   "metadata": {
    "slideshow": {
     "slide_type": "fragment"
    }
   },
   "outputs": [
    {
     "data": {
      "text/html": [
       "\n",
       "\n",
       "\n",
       "\n",
       "\n",
       "\n",
       "<iframe srcdoc=\"\n",
       "&lt;!DOCTYPE html&gt;\n",
       "&lt;html lang=&#34;en&#34;&gt;\n",
       "&lt;head&gt;\n",
       "    &lt;meta charset=&#34;UTF-8&#34;&gt;\n",
       "    &lt;script type=&#34;application/javascript&#34; src=&#34;https://cdn.jsdelivr.net/npm/vue@3&#34;&gt;&lt;/script&gt;\n",
       "    &lt;script type=&#34;application/javascript&#34; src=&#34;https://unpkg.com/pytket-circuit-renderer@0.3/dist/pytket-circuit-renderer.umd.js&#34;&gt;&lt;/script&gt;\n",
       "    &lt;link rel=&#34;stylesheet&#34; href=&#34;https://unpkg.com/pytket-circuit-renderer@0.3/dist/pytket-circuit-renderer.css&#34;&gt;\n",
       "&lt;/head&gt;\n",
       "&lt;body&gt;\n",
       "    &lt;div id=&#34;circuit-display-vue-container-2c0ec208-c9b8-4ae2-be2a-ea57cd05e1fb&#34; class=&#34;pytket-circuit-display-container&#34;&gt;\n",
       "        &lt;div style=&#34;display: none&#34;&gt;\n",
       "            &lt;div id=&#34;circuit-json-to-display&#34;&gt;{&#34;bits&#34;: [], &#34;commands&#34;: [{&#34;args&#34;: [[&#34;q&#34;, [0]]], &#34;op&#34;: {&#34;type&#34;: &#34;H&#34;}}, {&#34;args&#34;: [[&#34;q&#34;, [1]]], &#34;op&#34;: {&#34;type&#34;: &#34;H&#34;}}, {&#34;args&#34;: [[&#34;q&#34;, [2]]], &#34;op&#34;: {&#34;type&#34;: &#34;H&#34;}}, {&#34;args&#34;: [[&#34;q&#34;, [3]]], &#34;op&#34;: {&#34;type&#34;: &#34;H&#34;}}, {&#34;args&#34;: [[&#34;q&#34;, [4]]], &#34;op&#34;: {&#34;type&#34;: &#34;H&#34;}}, {&#34;args&#34;: [[&#34;q&#34;, [5]]], &#34;op&#34;: {&#34;type&#34;: &#34;H&#34;}}, {&#34;args&#34;: [[&#34;q&#34;, [6]]], &#34;op&#34;: {&#34;type&#34;: &#34;H&#34;}}, {&#34;args&#34;: [[&#34;q&#34;, [0]]], &#34;op&#34;: {&#34;params&#34;: [&#34;0.8&#34;], &#34;type&#34;: &#34;Rz&#34;}}, {&#34;args&#34;: [[&#34;q&#34;, [1]]], &#34;op&#34;: {&#34;params&#34;: [&#34;0.8&#34;], &#34;type&#34;: &#34;Rz&#34;}}, {&#34;args&#34;: [[&#34;q&#34;, [2]]], &#34;op&#34;: {&#34;params&#34;: [&#34;0.8&#34;], &#34;type&#34;: &#34;Rz&#34;}}, {&#34;args&#34;: [[&#34;q&#34;, [3]]], &#34;op&#34;: {&#34;params&#34;: [&#34;0.8&#34;], &#34;type&#34;: &#34;Rz&#34;}}, {&#34;args&#34;: [[&#34;q&#34;, [4]]], &#34;op&#34;: {&#34;params&#34;: [&#34;0.8&#34;], &#34;type&#34;: &#34;Rz&#34;}}, {&#34;args&#34;: [[&#34;q&#34;, [5]]], &#34;op&#34;: {&#34;params&#34;: [&#34;0.8&#34;], &#34;type&#34;: &#34;Rz&#34;}}, {&#34;args&#34;: [[&#34;q&#34;, [6]]], &#34;op&#34;: {&#34;params&#34;: [&#34;0.8&#34;], &#34;type&#34;: &#34;Rz&#34;}}, {&#34;args&#34;: [[&#34;q&#34;, [0]]], &#34;op&#34;: {&#34;type&#34;: &#34;H&#34;}}, {&#34;args&#34;: [[&#34;q&#34;, [1]]], &#34;op&#34;: {&#34;type&#34;: &#34;H&#34;}}, {&#34;args&#34;: [[&#34;q&#34;, [2]]], &#34;op&#34;: {&#34;type&#34;: &#34;H&#34;}}, {&#34;args&#34;: [[&#34;q&#34;, [3]]], &#34;op&#34;: {&#34;type&#34;: &#34;H&#34;}}, {&#34;args&#34;: [[&#34;q&#34;, [4]]], &#34;op&#34;: {&#34;type&#34;: &#34;H&#34;}}, {&#34;args&#34;: [[&#34;q&#34;, [5]]], &#34;op&#34;: {&#34;type&#34;: &#34;H&#34;}}, {&#34;args&#34;: [[&#34;q&#34;, [6]]], &#34;op&#34;: {&#34;type&#34;: &#34;H&#34;}}], &#34;created_qubits&#34;: [], &#34;discarded_qubits&#34;: [], &#34;implicit_permutation&#34;: [[[&#34;q&#34;, [0]], [&#34;q&#34;, [0]]], [[&#34;q&#34;, [1]], [&#34;q&#34;, [1]]], [[&#34;q&#34;, [2]], [&#34;q&#34;, [2]]], [[&#34;q&#34;, [3]], [&#34;q&#34;, [3]]], [[&#34;q&#34;, [4]], [&#34;q&#34;, [4]]], [[&#34;q&#34;, [5]], [&#34;q&#34;, [5]]], [[&#34;q&#34;, [6]], [&#34;q&#34;, [6]]]], &#34;phase&#34;: &#34;0.0&#34;, &#34;qubits&#34;: [[&#34;q&#34;, [0]], [&#34;q&#34;, [1]], [&#34;q&#34;, [2]], [&#34;q&#34;, [3]], [&#34;q&#34;, [4]], [&#34;q&#34;, [5]], [&#34;q&#34;, [6]]]}&lt;/div&gt;\n",
       "        &lt;/div&gt;\n",
       "        &lt;circuit-display-container :circuit-element-str=&#34;&#39;#circuit-json-to-display&#39;&#34;&gt;&lt;/circuit-display-container&gt;\n",
       "    &lt;/div&gt;\n",
       "    &lt;script type=&#34;application/javascript&#34;&gt;\n",
       "        const { createApp } = Vue;\n",
       "        const circuitDisplayContainer = window[&#34;pytket-circuit-renderer&#34;].default;\n",
       "        // Init variables to be shared between circuit display instances\n",
       "        if (typeof window.pytketCircuitDisplays === &#34;undefined&#34;) {\n",
       "            window.pytketCircuitDisplays = {};\n",
       "        }\n",
       "        const uid = &#34;2c0ec208-c9b8-4ae2-be2a-ea57cd05e1fb&#34;;\n",
       "        // Create the root Vue component\n",
       "        const app = createApp({\n",
       "            delimiters: [&#39;[[#&#39;, &#39;#]]&#39;],\n",
       "            components: { circuitDisplayContainer },\n",
       "        })\n",
       "        app.config.unwrapInjectedRef = true;\n",
       "        app.mount(&#34;#circuit-display-vue-container-&#34;+uid);\n",
       "        window.pytketCircuitDisplays[uid] = app;\n",
       "    &lt;/script&gt;\n",
       "&lt;/body&gt;\n",
       "&lt;/html&gt;\n",
       "\"\n",
       "        width=\"100%\" height=\"200px\"\n",
       "        style=\"border: none; outline: none; resize: vertical; overflow: auto\"></iframe>\n",
       "\n"
      ],
      "text/plain": [
       "<IPython.core.display.HTML object>"
      ]
     },
     "metadata": {},
     "output_type": "display_data"
    }
   ],
   "source": [
    "mixer_angle = 0.8\n",
    "mixer_ham_qpo =  QubitPauliOperator({QubitPauliString([Qubit(i)], [Pauli.X]): mixer_angle for i in range(n_nodes)})\n",
    "mixer_ham_circuit = gen_term_sequence_circuit(mixer_ham_qpo, Circuit(n_nodes))\n",
    "Transform.DecomposeBoxes().apply(mixer_ham_circuit)\n",
    "display.render_circuit_jupyter(mixer_ham_circuit)"
   ]
  },
  {
   "cell_type": "markdown",
   "id": "4d128a70",
   "metadata": {
    "jp-MarkdownHeadingCollapsed": true,
    "slideshow": {
     "slide_type": "slide"
    },
    "tags": []
   },
   "source": [
    "## Define the Initial State"
   ]
  },
  {
   "cell_type": "code",
   "execution_count": 8,
   "id": "0a9db628",
   "metadata": {
    "slideshow": {
     "slide_type": "fragment"
    }
   },
   "outputs": [
    {
     "data": {
      "text/html": [
       "\n",
       "\n",
       "\n",
       "\n",
       "\n",
       "\n",
       "<iframe srcdoc=\"\n",
       "&lt;!DOCTYPE html&gt;\n",
       "&lt;html lang=&#34;en&#34;&gt;\n",
       "&lt;head&gt;\n",
       "    &lt;meta charset=&#34;UTF-8&#34;&gt;\n",
       "    &lt;script type=&#34;application/javascript&#34; src=&#34;https://cdn.jsdelivr.net/npm/vue@3&#34;&gt;&lt;/script&gt;\n",
       "    &lt;script type=&#34;application/javascript&#34; src=&#34;https://unpkg.com/pytket-circuit-renderer@0.3/dist/pytket-circuit-renderer.umd.js&#34;&gt;&lt;/script&gt;\n",
       "    &lt;link rel=&#34;stylesheet&#34; href=&#34;https://unpkg.com/pytket-circuit-renderer@0.3/dist/pytket-circuit-renderer.css&#34;&gt;\n",
       "&lt;/head&gt;\n",
       "&lt;body&gt;\n",
       "    &lt;div id=&#34;circuit-display-vue-container-134d535e-4852-4e9d-aa91-8393fa4dd144&#34; class=&#34;pytket-circuit-display-container&#34;&gt;\n",
       "        &lt;div style=&#34;display: none&#34;&gt;\n",
       "            &lt;div id=&#34;circuit-json-to-display&#34;&gt;{&#34;bits&#34;: [], &#34;commands&#34;: [{&#34;args&#34;: [[&#34;q&#34;, [0]]], &#34;op&#34;: {&#34;type&#34;: &#34;H&#34;}}, {&#34;args&#34;: [[&#34;q&#34;, [1]]], &#34;op&#34;: {&#34;type&#34;: &#34;H&#34;}}, {&#34;args&#34;: [[&#34;q&#34;, [2]]], &#34;op&#34;: {&#34;type&#34;: &#34;H&#34;}}, {&#34;args&#34;: [[&#34;q&#34;, [3]]], &#34;op&#34;: {&#34;type&#34;: &#34;H&#34;}}, {&#34;args&#34;: [[&#34;q&#34;, [4]]], &#34;op&#34;: {&#34;type&#34;: &#34;H&#34;}}, {&#34;args&#34;: [[&#34;q&#34;, [5]]], &#34;op&#34;: {&#34;type&#34;: &#34;H&#34;}}, {&#34;args&#34;: [[&#34;q&#34;, [6]]], &#34;op&#34;: {&#34;type&#34;: &#34;H&#34;}}], &#34;created_qubits&#34;: [], &#34;discarded_qubits&#34;: [], &#34;implicit_permutation&#34;: [[[&#34;q&#34;, [0]], [&#34;q&#34;, [0]]], [[&#34;q&#34;, [1]], [&#34;q&#34;, [1]]], [[&#34;q&#34;, [2]], [&#34;q&#34;, [2]]], [[&#34;q&#34;, [3]], [&#34;q&#34;, [3]]], [[&#34;q&#34;, [4]], [&#34;q&#34;, [4]]], [[&#34;q&#34;, [5]], [&#34;q&#34;, [5]]], [[&#34;q&#34;, [6]], [&#34;q&#34;, [6]]]], &#34;phase&#34;: &#34;0.0&#34;, &#34;qubits&#34;: [[&#34;q&#34;, [0]], [&#34;q&#34;, [1]], [&#34;q&#34;, [2]], [&#34;q&#34;, [3]], [&#34;q&#34;, [4]], [&#34;q&#34;, [5]], [&#34;q&#34;, [6]]]}&lt;/div&gt;\n",
       "        &lt;/div&gt;\n",
       "        &lt;circuit-display-container :circuit-element-str=&#34;&#39;#circuit-json-to-display&#39;&#34;&gt;&lt;/circuit-display-container&gt;\n",
       "    &lt;/div&gt;\n",
       "    &lt;script type=&#34;application/javascript&#34;&gt;\n",
       "        const { createApp } = Vue;\n",
       "        const circuitDisplayContainer = window[&#34;pytket-circuit-renderer&#34;].default;\n",
       "        // Init variables to be shared between circuit display instances\n",
       "        if (typeof window.pytketCircuitDisplays === &#34;undefined&#34;) {\n",
       "            window.pytketCircuitDisplays = {};\n",
       "        }\n",
       "        const uid = &#34;134d535e-4852-4e9d-aa91-8393fa4dd144&#34;;\n",
       "        // Create the root Vue component\n",
       "        const app = createApp({\n",
       "            delimiters: [&#39;[[#&#39;, &#39;#]]&#39;],\n",
       "            components: { circuitDisplayContainer },\n",
       "        })\n",
       "        app.config.unwrapInjectedRef = true;\n",
       "        app.mount(&#34;#circuit-display-vue-container-&#34;+uid);\n",
       "        window.pytketCircuitDisplays[uid] = app;\n",
       "    &lt;/script&gt;\n",
       "&lt;/body&gt;\n",
       "&lt;/html&gt;\n",
       "\"\n",
       "        width=\"100%\" height=\"200px\"\n",
       "        style=\"border: none; outline: none; resize: vertical; overflow: auto\"></iframe>\n",
       "\n"
      ],
      "text/plain": [
       "<IPython.core.display.HTML object>"
      ]
     },
     "metadata": {},
     "output_type": "display_data"
    }
   ],
   "source": [
    "def qaoa_initial_circuit(n_qubits: int) -> Circuit:\n",
    "    c = Circuit(n_qubits)\n",
    "    for i in range(n_qubits):\n",
    "        c.H(i)\n",
    "    return c\n",
    "\n",
    "superposition_circuit = qaoa_initial_circuit(n_nodes)\n",
    "\n",
    "display.render_circuit_jupyter(superposition_circuit)"
   ]
  },
  {
   "cell_type": "markdown",
   "id": "da759b59",
   "metadata": {
    "jp-MarkdownHeadingCollapsed": true,
    "slideshow": {
     "slide_type": "slide"
    },
    "tags": []
   },
   "source": [
    "## Construct QAOA Circuit"
   ]
  },
  {
   "cell_type": "markdown",
   "id": "359a1a0f-e92e-40ae-bbe6-ce960b118f49",
   "metadata": {},
   "source": [
    "Now lets define a function to create our entire QAOA circuit. For $p$ QAOA layers we expect that our circuit will require $2p$ parameters. Here we will pass and cost mixer parameters in as a list where the length of the list defines the number of layers."
   ]
  },
  {
   "cell_type": "code",
   "execution_count": 9,
   "id": "23f8910a",
   "metadata": {
    "slideshow": {
     "slide_type": "fragment"
    }
   },
   "outputs": [],
   "source": [
    "def qaoa_max_cut_circuit(edges: List[Tuple[int, int]],\n",
    "                         n_nodes: int,\n",
    "                         mixer_angles: List[float],\n",
    "                         cost_angles: List[float]) -> Circuit:\n",
    "    \n",
    "    assert len(mixer_angles) == len(cost_angles)\n",
    "    \n",
    "    # initial state\n",
    "    qaoa_circuit = qaoa_initial_circuit(n_nodes)\n",
    "    \n",
    "    # add cost and mixer terms to state\n",
    "    for cost, mixer in zip(cost_angles, mixer_angles):\n",
    "        cost_ham = qaoa_graph_to_cost_hamiltonian(edges, cost)\n",
    "        mixer_ham = QubitPauliOperator({QubitPauliString([Qubit(i)], [Pauli.X]): mixer for i in range(n_nodes)})\n",
    "        qaoa_circuit.append(gen_term_sequence_circuit(cost_ham, Circuit(n_nodes)))\n",
    "        qaoa_circuit.append(gen_term_sequence_circuit(mixer_ham, Circuit(n_nodes)))\n",
    "        \n",
    "    Transform.DecomposeBoxes().apply(qaoa_circuit)\n",
    "    return qaoa_circuit"
   ]
  },
  {
   "cell_type": "markdown",
   "id": "bc2f8939-41b7-476b-a5a8-09de07211079",
   "metadata": {},
   "source": [
    "We also need to extract our energy expectation values from a `BackendResult` object after our circuit is processed by the device/simulator. We do this with the `get_max_cut_energy` function below. Note that the fact that the maxcut Hamiltonian contains only commuting terms means that we do not need to calculate our energy expectation using multiple measurement circuits. This may not the the case for a different problem Hamiltonian."
   ]
  },
  {
   "cell_type": "code",
   "execution_count": 10,
   "id": "df387eea-4198-428e-9b92-4f3bceb12f0e",
   "metadata": {},
   "outputs": [],
   "source": [
    "from typing import List, Tuple\n",
    "from pytket.backends.backendresult import BackendResult\n",
    "\n",
    "def get_max_cut_energy(edges: List[Tuple[int, int]], results: BackendResult) -> float:\n",
    "    energy = 0.0\n",
    "    dist = results.get_distribution()\n",
    "    for i, j in edges:\n",
    "        energy += sum((meas[i] ^ meas[j]) * prob for meas, prob in dist.items())\n",
    "\n",
    "    return energy"
   ]
  },
  {
   "cell_type": "code",
   "execution_count": 11,
   "id": "e5abad7b-e989-4156-9708-3d8c97d8ca2a",
   "metadata": {},
   "outputs": [],
   "source": [
    "from pytket.backends.backend import Backend\n",
    "from typing import Callable\n",
    "import numpy as np\n",
    "\n",
    "def qaoa_instance(\n",
    "    backend: Backend,\n",
    "    compiler_pass: Callable[[Circuit], bool],\n",
    "    guess_mixer_angles: np.array,\n",
    "    guess_cost_angles: np.array,\n",
    "    seed: int,\n",
    "    shots: int = 5000,\n",
    ") -> float:\n",
    "    # step 1: get state guess\n",
    "    my_prep_circuit = qaoa_max_cut_circuit(\n",
    "        max_cut_graph_edges, n_nodes, guess_mixer_angles, guess_cost_angles\n",
    "    )\n",
    "    measured_circ = my_prep_circuit.copy().measure_all()\n",
    "    compiler_pass(measured_circ)\n",
    "    res = backend.run_circuit(measured_circ, shots, seed=seed)\n",
    "\n",
    "    return get_max_cut_energy(max_cut_graph_edges, res)"
   ]
  },
  {
   "cell_type": "markdown",
   "id": "2c01c28b",
   "metadata": {
    "jp-MarkdownHeadingCollapsed": true,
    "slideshow": {
     "slide_type": "slide"
    },
    "tags": []
   },
   "source": [
    "# Optimise Energy by Guessing Parameters (Original)"
   ]
  },
  {
   "cell_type": "code",
   "execution_count": 26,
   "id": "0a44bed8",
   "metadata": {
    "slideshow": {
     "slide_type": "fragment"
    }
   },
   "outputs": [],
   "source": [
    "def qaoa_optimise_energy(compiler_pass: Callable[[Circuit], bool],\n",
    "                         backend: Backend,\n",
    "                         iterations: int = 100,\n",
    "                         n: int = 3,\n",
    "                         shots: int = 5000,\n",
    "                         seed: int= 12345):\n",
    "    \n",
    "    highest_energy = 0    \n",
    "    best_guess_mixer_angles = [0 for i in range(n)]    \n",
    "    best_guess_cost_angles = [0 for i in range(n)]\n",
    "    rng = np.random.default_rng(seed)\n",
    "    # guess some angles (iterations)-times and try if they are better than the best angles found before\n",
    "    \n",
    "    for i in range(iterations):\n",
    "        \n",
    "        guess_mixer_angles = rng.uniform(0, 1, n)\n",
    "        guess_cost_angles = rng.uniform(0, 1, n)\n",
    "        \n",
    "        qaoa_energy = qaoa_instance(backend,\n",
    "                                    compiler_pass,\n",
    "                                    guess_mixer_angles,\n",
    "                                    guess_cost_angles,\n",
    "                                    seed=seed,\n",
    "                                    shots=shots)\n",
    "        \n",
    "        if(qaoa_energy > highest_energy):\n",
    "            \n",
    "            print(\"new highest energy found: \", qaoa_energy)\n",
    "            \n",
    "            best_guess_mixer_angles = np.round(guess_mixer_angles, 3)\n",
    "            best_guess_cost_angles = np.round(guess_cost_angles, 3)\n",
    "            highest_energy = qaoa_energy\n",
    "            \n",
    "    print(\"highest energy: \", highest_energy)\n",
    "    print(\"best guess mixer angles: \", best_guess_mixer_angles)\n",
    "    print(\"best guess cost angles: \", best_guess_cost_angles)\n",
    "    return best_guess_mixer_angles, best_guess_cost_angles"
   ]
  },
  {
   "cell_type": "markdown",
   "id": "097f53c5-b9d4-46d2-81db-f0375897f934",
   "metadata": {
    "slideshow": {
     "slide_type": "slide"
    },
    "tags": []
   },
   "source": [
    "### Calculate the State for the final Parameters"
   ]
  },
  {
   "cell_type": "code",
   "execution_count": 13,
   "id": "da46e63d",
   "metadata": {
    "slideshow": {
     "slide_type": "fragment"
    }
   },
   "outputs": [],
   "source": [
    "def qaoa_calculate(backend: Backend,\n",
    "                   compiler_pass: Callable[[Circuit], bool],\n",
    "                   shots: int = 5000,\n",
    "                   iterations: int = 100,\n",
    "                   seed: int = 12345,\n",
    "                  ) -> BackendResult:\n",
    "    \n",
    "    # find the parameters for the highest energy\n",
    "    best_mixer, best_cost = qaoa_optimise_energy(compiler_pass,\n",
    "                                                 backend,\n",
    "                                                 iterations,\n",
    "                                                 3,\n",
    "                                                 shots=shots,\n",
    "                                                 seed=seed)\n",
    "    \n",
    "    # get the circuit with the final parameters of the optimisation:\n",
    "    my_qaoa_circuit = qaoa_max_cut_circuit(max_cut_graph_edges,\n",
    "                                           n_nodes,\n",
    "                                           best_mixer,\n",
    "                                           best_cost)\n",
    "\n",
    "    my_qaoa_circuit.measure_all()\n",
    "\n",
    "    compiler_pass(my_qaoa_circuit)\n",
    "    handle = backend.process_circuit(my_qaoa_circuit, shots, seed=seed)\n",
    "\n",
    "    result = backend.get_result(handle)    \n",
    "    \n",
    "    return result"
   ]
  },
  {
   "cell_type": "markdown",
   "id": "ffdcc611-9bc8-4567-b2f2-36ae53f57886",
   "metadata": {
    "slideshow": {
     "slide_type": "slide"
    },
    "tags": []
   },
   "source": [
    "## Results with the Noiseless Simulator"
   ]
  },
  {
   "cell_type": "code",
   "execution_count": 14,
   "id": "78c71244-2c40-4973-81a7-cc58019bf882",
   "metadata": {
    "slideshow": {
     "slide_type": "fragment"
    }
   },
   "outputs": [],
   "source": [
    "from pytket.extensions.qiskit import AerBackend\n",
    "\n",
    "backend = AerBackend()\n",
    "comp = backend.get_compiled_circuit"
   ]
  },
  {
   "cell_type": "code",
   "execution_count": 15,
   "id": "9dfae628-254f-4515-953c-577021cf9c68",
   "metadata": {
    "slideshow": {
     "slide_type": "slide"
    }
   },
   "outputs": [
    {
     "name": "stdout",
     "output_type": "stream",
     "text": [
      "new highest energy found:  3.1432\n",
      "new highest energy found:  3.283599999999999\n",
      "new highest energy found:  4.361\n",
      "new highest energy found:  4.925600000000001\n",
      "new highest energy found:  4.941999999999999\n",
      "highest energy:  4.941999999999999\n",
      "best guess mixer angles:  [0.392 0.247 0.138]\n",
      "best guess cost angles:  [0.592 0.738 0.608]\n",
      "CPU times: user 44.9 s, sys: 106 ms, total: 45 s\n",
      "Wall time: 45 s\n"
     ]
    }
   ],
   "source": [
    "%%time\n",
    "res = qaoa_calculate(backend, backend.default_compilation_pass(2).apply, shots = 5000, iterations = 100, seed=12345)"
   ]
  },
  {
   "cell_type": "code",
   "execution_count": 16,
   "id": "7a7de1ae-5ab5-4951-b481-9ea84b810086",
   "metadata": {},
   "outputs": [
    {
     "name": "stdout",
     "output_type": "stream",
     "text": [
      "Success ratio 0.4252 \n"
     ]
    },
    {
     "data": {
      "image/png": "[encoded data removed]",
      "text/plain": [
       "<Figure size 640x480 with 1 Axes>"
      ]
     },
     "metadata": {},
     "output_type": "display_data"
    }
   ],
   "source": [
    "from maxcut_plotting import plot_maxcut_results\n",
    "\n",
    "plot_maxcut_results(res, 6)"
   ]
  },
  {
   "cell_type": "markdown",
   "id": "8bad3c7a-ed8e-483d-9b2a-808c06d31bdf",
   "metadata": {
    "jp-MarkdownHeadingCollapsed": true,
    "tags": []
   },
   "source": [
    "# Initial gradient descent and SPSA Optimize Implmentation"
   ]
  },
  {
   "cell_type": "markdown",
   "id": "3077836f-ec51-4fc1-a1a5-aaedc6644360",
   "metadata": {
    "tags": []
   },
   "source": [
    "### Gradient descent through partial derivative in each variable"
   ]
  },
  {
   "cell_type": "code",
   "execution_count": 17,
   "id": "5029d32e-9dbd-4175-a33e-81072124925b",
   "metadata": {},
   "outputs": [],
   "source": [
    "def gradient(vector, learn_rate):\n",
    "    step_size = learn_rate/2\n",
    "    result = []\n",
    "    \n",
    "    l = len(vector)\n",
    "    if l % 2 == 0:\n",
    "        beta_end = l//2\n",
    "    else:\n",
    "        beta_end = l//2 + 1\n",
    "    betas = vector[:beta_end]\n",
    "    gammas = vector[beta_end:]\n",
    "    qaoa_energy = qaoa_instance(backend,\n",
    "                                backend.default_compilation_pass(2).apply,\n",
    "                                betas,\n",
    "                                gammas,\n",
    "                                seed=12345,\n",
    "                                shots=5000)\n",
    "    \n",
    "    for i in range(len(betas)):\n",
    "        betas_copy = betas[:]\n",
    "        betas_copy[i] += step_size\n",
    "        qaoa_energy_new = qaoa_instance(backend,\n",
    "                                backend.default_compilation_pass(2).apply,\n",
    "                                betas_copy,\n",
    "                                gammas,\n",
    "                                seed=12345,\n",
    "                                shots=5000)\n",
    "        result.append((qaoa_energy_new-qaoa_energy)/step_size)\n",
    "    for i in range(len(gammas)):\n",
    "        gammas_copy = gammas[:]\n",
    "        gammas_copy[i] += step_size\n",
    "        qaoa_energy_new = qaoa_instance(backend,\n",
    "                                backend.default_compilation_pass(2).apply,\n",
    "                                betas,\n",
    "                                gammas_copy,\n",
    "                                seed=12345,\n",
    "                                shots=5000)\n",
    "        result.append((qaoa_energy_new-qaoa_energy)/step_size)\n",
    "    \n",
    "    return result, qaoa_energy"
   ]
  },
  {
   "cell_type": "code",
   "execution_count": 18,
   "id": "f9a9f10e-f56e-46aa-b57f-66349585397c",
   "metadata": {},
   "outputs": [],
   "source": [
    "def gradient_descent(\n",
    "    gradient, start, learn_rate=0.01, n_iter=50, tolerance=1e-06\n",
    "):\n",
    "    vector = start # start = betas + gammas\n",
    "    for _ in range(n_iter):\n",
    "        print(_)\n",
    "        \n",
    "        grad, energy = gradient(vector, learn_rate=0.01)\n",
    "        \n",
    "        # square_sum = 0\n",
    "        # for elem in grad:\n",
    "        #     square_sum += elem**2\n",
    "        # print(\"square sum\", square_sum)\n",
    "        learn_rate = 1/(100 * math.sqrt(sum([x**2 for x in grad]))/(len(grad)))\n",
    "        print(\"learn rate\", learn_rate)\n",
    "       \n",
    "        print(\"energy\", energy)\n",
    "        diff = [learn_rate * elem for elem in grad]\n",
    "        if np.all(np.abs(diff) <= tolerance):\n",
    "            break\n",
    "        for i in range(len(vector)):\n",
    "            vector[i] += diff[i]\n",
    "        print(vector)\n",
    "    return vector"
   ]
  },
  {
   "cell_type": "markdown",
   "id": "a7abc4a3-6795-4c2e-bb5a-d2b77390863b",
   "metadata": {},
   "source": [
    "### Using builtin SPSA optimizer"
   ]
  },
  {
   "cell_type": "code",
   "execution_count": 19,
   "id": "d6f02034-90f5-4dcb-bea6-a04a24ba3ec7",
   "metadata": {},
   "outputs": [
    {
     "name": "stdout",
     "output_type": "stream",
     "text": [
      "(array([ 0.19661987,  0.24516917,  0.63520651,  0.62363986,  0.11841169,\n",
      "       -0.17133865,  0.22600817,  0.27668782, -0.14573312,  0.86793627]), -5.271499999999998, 91)\n"
     ]
    }
   ],
   "source": [
    "from qiskit.algorithms.optimizers import SPSA\n",
    "import random\n",
    "random.seed(12345)\n",
    "var = 10\n",
    "\n",
    "spsa = SPSA(maxiter=30, learning_rate=0.01, perturbation=0.001, blocking=True, last_avg = 0)\n",
    "result = spsa.optimize(var, lambda x: - qaoa_instance(backend,\n",
    "                                backend.default_compilation_pass(2).apply,\n",
    "                                x[:var // 2],\n",
    "                                x[var // 2:],\n",
    "                                seed=12345,\n",
    "                                shots=2000), initial_point=[random.random() for _ in range(var)])\n",
    "print(result)"
   ]
  },
  {
   "cell_type": "markdown",
   "id": "7902a239-a8b9-43f0-b3e2-2089c32fbaa2",
   "metadata": {
    "tags": []
   },
   "source": [
    "# Recreating SPSA Algorithm"
   ]
  },
  {
   "cell_type": "code",
   "execution_count": 14,
   "id": "c8c5e93c-c66d-4200-9217-6871bb7186d5",
   "metadata": {},
   "outputs": [],
   "source": [
    "import random\n",
    "def own_spsa_step(vector, func, n, a, c):\n",
    "    #maximizes\n",
    "    var = len(vector)\n",
    "#     uses rademacher distribution and recommended parameters from Wikipedia\n",
    "    delta = [random.getrandbits(1) * 2 - 1 for _ in range(var)]\n",
    "    a_n = a/n\n",
    "    c_n = c * n**(-1/3)\n",
    "    \n",
    "    highvector = [vector[i] + c_n * delta[i] for i in range(var)]\n",
    "    lowvector = [vector[i] - c_n * delta[i] for i in range(var)]\n",
    "    high = func(highvector)\n",
    "    low = func(lowvector)\n",
    "    diff = func(highvector) - func(lowvector)\n",
    "    grad = [diff/(2 * c_n * delta[i]) for i in range(var)]\n",
    "    newvector = [vector[i] + a_n * grad[i] for i in range(var)]\n",
    "    newval = func(newvector)\n",
    "    return max((high, highvector), (low, lowvector), (newval, newvector))\n",
    "    "
   ]
  },
  {
   "cell_type": "code",
   "execution_count": 15,
   "id": "acf272f4-e4f4-41b6-b0ec-59263f90a8cd",
   "metadata": {},
   "outputs": [],
   "source": [
    "def own_spsa(initial, func, maxiter, a, c):\n",
    "    prev = (-1000, initial)\n",
    "    vector = initial\n",
    "    #flag for detecting stuck-ness\n",
    "    flag = 0\n",
    "    for n in range(1, maxiter + 1):\n",
    "        current = own_spsa_step(vector, func, n, a, c)\n",
    "        if abs(current[0] - prev[0]) < 0.001:\n",
    "            flag += 1\n",
    "        if flag > 3:\n",
    "            break\n",
    "        print(current)\n",
    "        prev = current\n",
    "        vector = current[1]\n",
    "    return current[0]"
   ]
  },
  {
   "cell_type": "code",
   "execution_count": 16,
   "id": "05fe8b43-8ff6-4727-a044-157ce96884a9",
   "metadata": {},
   "outputs": [
    {
     "name": "stdout",
     "output_type": "stream",
     "text": [
      "(4.082499999999999, [1.023271144952159, 0.9715100929584244, -0.035153983349209855, 0.7339097392828418, 0.8748733172334521, 0.39130877348594184, 0.7888422087429764, 1.00775517755791])\n",
      "(4.4594999999999985, [0.943901092353749, 1.0508801455568344, -0.11452403594761984, 0.8132797918812518, 0.9542433698318621, 0.47067882608435185, 0.8682122613413864, 0.9283851249595001])\n",
      "(4.456999999999998, [0.9518334649904399, 1.0588125181935253, -0.1065916633109289, 0.8053474192445609, 0.9463109971951712, 0.4786111987210428, 0.8602798887046955, 0.9204527523228092])\n",
      "(4.181499999999999, [0.9903279405006686, 1.097306993703754, -0.14508613882115765, 0.7668529437343321, 0.9078165216849424, 0.4401167232108141, 0.8217854131944667, 0.958947227833038])\n",
      "(4.1789999999999985, [0.9608308554204955, 1.067809908623581, -0.11558905374098458, 0.7963500288145052, 0.8783194366047693, 0.410619638130641, 0.8512824982746399, 0.9294501427528649])\n",
      "(4.415499999999998, [1.0322285520471919, 0.9964122119968848, -0.1869867503676809, 0.8677477254412016, 0.9497171332314656, 0.3392219415039447, 0.9226801949013361, 1.0008478393795612])\n",
      "(4.459999999999999, [1.0001869547357543, 1.0284538093083224, -0.2190283476791186, 0.8997893227526393, 0.9817587305429033, 0.37126353881538243, 0.9547217922127739, 0.9688062420681235])\n",
      "(4.400999999999998, [0.9501869547357542, 0.9784538093083224, -0.16902834767911862, 0.8497893227526393, 0.9317587305429033, 0.4212635388153824, 1.0047217922127738, 0.9188062420681234])\n",
      "(4.461999999999998, [0.9982619404126678, 1.026528794985236, -0.120953362002205, 0.8017143370757257, 0.8836837448659897, 0.46933852449229607, 0.9566468065358602, 0.8707312563912099])\n",
      "(4.463499999999998, [0.9957843405191311, 1.0290063948787727, -0.11847576210866827, 0.8041919369692624, 0.881206144972453, 0.4718161243858328, 0.9591244064293969, 0.8732088562847465])\n",
      "(4.463499999999998, [0.9957843405191312, 1.0290063948787727, -0.11847576210866835, 0.8041919369692623, 0.8812061449724529, 0.4718161243858327, 0.959124406429397, 0.8732088562847464])\n",
      "(4.635999999999999, [0.9521053172823163, 1.0726854181155876, -0.1621547853454833, 0.7605129137324473, 0.9248851682092678, 0.5154951476226477, 1.002803429666212, 0.9168878795215614])\n",
      "(4.732499999999998, [0.9095762802540173, 1.1152144551438865, -0.20468382237378233, 0.8030419507607464, 0.9674142052375668, 0.4729661105943487, 1.0453324666945112, 0.8743588424932623])\n",
      "(4.744499999999998, [0.9062192963860589, 1.1118574712759282, -0.20804080624174065, 0.799684966892788, 0.9707711891055252, 0.47632309446230703, 1.0419754828265528, 0.871001858625304])\n",
      "(4.745499999999998, [0.9205644299517479, 1.0975123377102391, -0.22238593980742963, 0.814030100458477, 0.9851163226712142, 0.49066822802799603, 1.0276303492608638, 0.885346992190993])\n",
      "(4.7514999999999965, [0.9229661544531101, 1.095110613208877, -0.2247876643087918, 0.8164318249598392, 0.9875180471725764, 0.48826650352663387, 1.030032073762226, 0.8877487166923552])\n",
      "(4.765499999999998, [0.9179370301654991, 1.100139737496488, -0.2197585400211808, 0.8214609492474503, 0.9925471714601874, 0.4832373792390229, 1.025002949474615, 0.8927778409799663])\n",
      "(4.766499999999999, [0.9263816413246166, 1.1085843486556057, -0.2113139288620632, 0.8299055604065678, 1.000991782619305, 0.4916819903981405, 1.0334475606337326, 0.8843332298208487])\n",
      "(4.769499999999999, [0.9222737072075052, 1.1044764145384944, -0.20720599474495183, 0.8257976262894564, 0.9968838485021937, 0.49578992451525183, 1.0293396265166213, 0.8802252957037373])\n",
      "(4.774999999999998, [0.9293990534510669, 1.0973510682949328, -0.20008064850139023, 0.8186722800458948, 1.0040091947457552, 0.5029152707588135, 1.036464972760183, 0.887350641947299])\n",
      "(4.781999999999997, [0.9286436337361054, 1.0981064880098943, -0.20083606821635172, 0.8194276997608563, 1.0047646144607167, 0.503670690473775, 1.0357095530452214, 0.8865952222323374])\n",
      "(4.774999999999999, [0.9274336622069587, 1.099316459539041, -0.20204603974549837, 0.8182177282317096, 1.00355464293157, 0.5048806620029217, 1.0344995815160747, 0.8878051937614841])\n",
      "(4.776499999999998, [0.9297829436250968, 1.1016657409571793, -0.19969675832736017, 0.8205670096498477, 1.0012053615134318, 0.5025313805847835, 1.0321503000979364, 0.8901544751796223])\n",
      "(4.788999999999999, [0.9270486788147224, 1.1044000057675536, -0.20243102313773456, 0.8178327448394733, 1.003939626323806, 0.505265645395158, 1.0348845649083107, 0.8928887399899967])\n",
      "(4.7719999999999985, [0.9231597352228992, 1.1005110621757304, -0.20631996672955774, 0.8217216884312966, 1.0000506827319828, 0.5091545889869812, 1.0309956213164875, 0.89677768358182])\n",
      "(4.7894999999999985, [0.9195420717547478, 1.1041287256438816, -0.2099376301977091, 0.8181040249631452, 1.0036683462001341, 0.5127722524551326, 1.0273779578483362, 0.8931600201136686])\n",
      "(4.789499999999998, [0.9233754050880811, 1.107962058977215, -0.20610429686437573, 0.8219373582964785, 1.0075016795334675, 0.5089389191217992, 1.0312112911816695, 0.8893266867803352])\n",
      "(4.786499999999999, [0.922155347019024, 1.1091821170462721, -0.20488423879531864, 0.8231574163655356, 1.0087217376025246, 0.5077188610527421, 1.0324313492507267, 0.8905467448493923])\n",
      "(4.783999999999999, [0.9223937164279135, 1.1089437476373827, -0.2051226082042081, 0.8229190469566462, 1.008960107011414, 0.5074804916438527, 1.0321929798418372, 0.8907851142582818])\n",
      "(4.780499999999998, [0.9227562268869415, 1.1093062580964108, -0.20548511866323613, 0.8225565364976182, 1.008597596552386, 0.5071179811848247, 1.0325554903008654, 0.8911476247173098])\n",
      "CPU times: user 1min 8s, sys: 41 ms, total: 1min 8s\n",
      "Wall time: 1min 8s\n"
     ]
    },
    {
     "data": {
      "text/plain": [
       "4.780499999999998"
      ]
     },
     "execution_count": 16,
     "metadata": {},
     "output_type": "execute_result"
    }
   ],
   "source": [
    "%%time\n",
    "from pytket.extensions.qiskit import AerBackend\n",
    "\n",
    "backend = AerBackend()\n",
    "comp = backend.get_compiled_circuit\n",
    "\n",
    "def objective_func(x):\n",
    "    return qaoa_instance(backend,\n",
    "                                backend.default_compilation_pass(2).apply,\n",
    "                                x[:var // 2],\n",
    "                                x[var // 2:],\n",
    "                                seed=12345,\n",
    "                                shots=2000)\n",
    "\n",
    "var = 8\n",
    "own_spsa([random.random() for _ in range(var)], objective_func, 30, 0.1, 0.1)"
   ]
  },
  {
   "cell_type": "code",
   "execution_count": 21,
   "id": "e7afb38e",
   "metadata": {
    "slideshow": {
     "slide_type": "fragment"
    }
   },
   "outputs": [],
   "source": [
    "from pytket.extensions.qiskit import AerBackend\n",
    "\n",
    "backend = AerBackend()\n",
    "comp = backend.get_compiled_circuit"
   ]
  },
  {
   "cell_type": "code",
   "execution_count": 22,
   "id": "aaea7e2f",
   "metadata": {
    "slideshow": {
     "slide_type": "slide"
    }
   },
   "outputs": [
    {
     "name": "stdout",
     "output_type": "stream",
     "text": [
      "new highest energy found:  3.1432\n",
      "new highest energy found:  3.283599999999999\n",
      "new highest energy found:  4.361\n",
      "new highest energy found:  4.925600000000001\n"
     ]
    },
    {
     "ename": "KeyboardInterrupt",
     "evalue": "",
     "output_type": "error",
     "traceback": [
      "\u001b[0;31m---------------------------------------------------------------------------\u001b[0m",
      "\u001b[0;31mKeyboardInterrupt\u001b[0m                         Traceback (most recent call last)",
      "File \u001b[0;32m<timed exec>:1\u001b[0m\n",
      "Cell \u001b[0;32mIn[13], line 9\u001b[0m, in \u001b[0;36mqaoa_calculate\u001b[0;34m(backend, compiler_pass, shots, iterations, seed)\u001b[0m\n\u001b[1;32m      1\u001b[0m \u001b[38;5;28;01mdef\u001b[39;00m \u001b[38;5;21mqaoa_calculate\u001b[39m(backend: Backend,\n\u001b[1;32m      2\u001b[0m                    compiler_pass: Callable[[Circuit], \u001b[38;5;28mbool\u001b[39m],\n\u001b[1;32m      3\u001b[0m                    shots: \u001b[38;5;28mint\u001b[39m \u001b[38;5;241m=\u001b[39m \u001b[38;5;241m5000\u001b[39m,\n\u001b[0;32m   (...)\u001b[0m\n\u001b[1;32m      7\u001b[0m     \n\u001b[1;32m      8\u001b[0m     \u001b[38;5;66;03m# find the parameters for the highest energy\u001b[39;00m\n\u001b[0;32m----> 9\u001b[0m     best_mixer, best_cost \u001b[38;5;241m=\u001b[39m \u001b[43mqaoa_optimise_energy\u001b[49m\u001b[43m(\u001b[49m\u001b[43mcompiler_pass\u001b[49m\u001b[43m,\u001b[49m\n\u001b[1;32m     10\u001b[0m \u001b[43m                                                 \u001b[49m\u001b[43mbackend\u001b[49m\u001b[43m,\u001b[49m\n\u001b[1;32m     11\u001b[0m \u001b[43m                                                 \u001b[49m\u001b[43miterations\u001b[49m\u001b[43m,\u001b[49m\n\u001b[1;32m     12\u001b[0m \u001b[43m                                                 \u001b[49m\u001b[38;5;241;43m3\u001b[39;49m\u001b[43m,\u001b[49m\n\u001b[1;32m     13\u001b[0m \u001b[43m                                                 \u001b[49m\u001b[43mshots\u001b[49m\u001b[38;5;241;43m=\u001b[39;49m\u001b[43mshots\u001b[49m\u001b[43m,\u001b[49m\n\u001b[1;32m     14\u001b[0m \u001b[43m                                                 \u001b[49m\u001b[43mseed\u001b[49m\u001b[38;5;241;43m=\u001b[39;49m\u001b[43mseed\u001b[49m\u001b[43m)\u001b[49m\n\u001b[1;32m     16\u001b[0m     \u001b[38;5;66;03m# get the circuit with the final parameters of the optimisation:\u001b[39;00m\n\u001b[1;32m     17\u001b[0m     my_qaoa_circuit \u001b[38;5;241m=\u001b[39m qaoa_max_cut_circuit(max_cut_graph_edges,\n\u001b[1;32m     18\u001b[0m                                            n_nodes,\n\u001b[1;32m     19\u001b[0m                                            best_mixer,\n\u001b[1;32m     20\u001b[0m                                            best_cost)\n",
      "Cell \u001b[0;32mIn[12], line 19\u001b[0m, in \u001b[0;36mqaoa_optimise_energy\u001b[0;34m(compiler_pass, backend, iterations, n, shots, seed)\u001b[0m\n\u001b[1;32m     16\u001b[0m guess_mixer_angles \u001b[38;5;241m=\u001b[39m rng\u001b[38;5;241m.\u001b[39muniform(\u001b[38;5;241m0\u001b[39m, \u001b[38;5;241m1\u001b[39m, n)\n\u001b[1;32m     17\u001b[0m guess_cost_angles \u001b[38;5;241m=\u001b[39m rng\u001b[38;5;241m.\u001b[39muniform(\u001b[38;5;241m0\u001b[39m, \u001b[38;5;241m1\u001b[39m, n)\n\u001b[0;32m---> 19\u001b[0m qaoa_energy \u001b[38;5;241m=\u001b[39m \u001b[43mqaoa_instance\u001b[49m\u001b[43m(\u001b[49m\u001b[43mbackend\u001b[49m\u001b[43m,\u001b[49m\n\u001b[1;32m     20\u001b[0m \u001b[43m                            \u001b[49m\u001b[43mcompiler_pass\u001b[49m\u001b[43m,\u001b[49m\n\u001b[1;32m     21\u001b[0m \u001b[43m                            \u001b[49m\u001b[43mguess_mixer_angles\u001b[49m\u001b[43m,\u001b[49m\n\u001b[1;32m     22\u001b[0m \u001b[43m                            \u001b[49m\u001b[43mguess_cost_angles\u001b[49m\u001b[43m,\u001b[49m\n\u001b[1;32m     23\u001b[0m \u001b[43m                            \u001b[49m\u001b[43mseed\u001b[49m\u001b[38;5;241;43m=\u001b[39;49m\u001b[43mseed\u001b[49m\u001b[43m,\u001b[49m\n\u001b[1;32m     24\u001b[0m \u001b[43m                            \u001b[49m\u001b[43mshots\u001b[49m\u001b[38;5;241;43m=\u001b[39;49m\u001b[43mshots\u001b[49m\u001b[43m)\u001b[49m\n\u001b[1;32m     26\u001b[0m \u001b[38;5;28;01mif\u001b[39;00m(qaoa_energy \u001b[38;5;241m>\u001b[39m highest_energy):\n\u001b[1;32m     28\u001b[0m     \u001b[38;5;28mprint\u001b[39m(\u001b[38;5;124m\"\u001b[39m\u001b[38;5;124mnew highest energy found: \u001b[39m\u001b[38;5;124m\"\u001b[39m, qaoa_energy)\n",
      "Cell \u001b[0;32mIn[11], line 19\u001b[0m, in \u001b[0;36mqaoa_instance\u001b[0;34m(backend, compiler_pass, guess_mixer_angles, guess_cost_angles, seed, shots)\u001b[0m\n\u001b[1;32m     17\u001b[0m measured_circ \u001b[38;5;241m=\u001b[39m my_prep_circuit\u001b[38;5;241m.\u001b[39mcopy()\u001b[38;5;241m.\u001b[39mmeasure_all()\n\u001b[1;32m     18\u001b[0m compiler_pass(measured_circ)\n\u001b[0;32m---> 19\u001b[0m res \u001b[38;5;241m=\u001b[39m \u001b[43mbackend\u001b[49m\u001b[38;5;241;43m.\u001b[39;49m\u001b[43mrun_circuit\u001b[49m\u001b[43m(\u001b[49m\u001b[43mmeasured_circ\u001b[49m\u001b[43m,\u001b[49m\u001b[43m \u001b[49m\u001b[43mshots\u001b[49m\u001b[43m,\u001b[49m\u001b[43m \u001b[49m\u001b[43mseed\u001b[49m\u001b[38;5;241;43m=\u001b[39;49m\u001b[43mseed\u001b[49m\u001b[43m)\u001b[49m\n\u001b[1;32m     21\u001b[0m \u001b[38;5;28;01mreturn\u001b[39;00m get_max_cut_energy(max_cut_graph_edges, res)\n",
      "File \u001b[0;32m/opt/.qbraid/environments/qbraid_000000/pyenv/lib/python3.9/site-packages/pytket/backends/backend.py:392\u001b[0m, in \u001b[0;36mBackend.run_circuit\u001b[0;34m(self, circuit, n_shots, valid_check, **kwargs)\u001b[0m\n\u001b[1;32m    372\u001b[0m \u001b[38;5;28;01mdef\u001b[39;00m \u001b[38;5;21mrun_circuit\u001b[39m(\n\u001b[1;32m    373\u001b[0m     \u001b[38;5;28mself\u001b[39m,\n\u001b[1;32m    374\u001b[0m     circuit: Circuit,\n\u001b[0;32m   (...)\u001b[0m\n\u001b[1;32m    377\u001b[0m     \u001b[38;5;241m*\u001b[39m\u001b[38;5;241m*\u001b[39mkwargs: KwargTypes,\n\u001b[1;32m    378\u001b[0m ) \u001b[38;5;241m-\u001b[39m\u001b[38;5;241m>\u001b[39m BackendResult:\n\u001b[1;32m    379\u001b[0m \u001b[38;5;250m    \u001b[39m\u001b[38;5;124;03m\"\"\"\u001b[39;00m\n\u001b[1;32m    380\u001b[0m \u001b[38;5;124;03m    Submits a circuit to the backend and returns results\u001b[39;00m\n\u001b[1;32m    381\u001b[0m \n\u001b[0;32m   (...)\u001b[0m\n\u001b[1;32m    390\u001b[0m \u001b[38;5;124;03m    :py:meth:`Backend.process_circuit` and :py:meth:`Backend.get_result`.\u001b[39;00m\n\u001b[1;32m    391\u001b[0m \u001b[38;5;124;03m    \"\"\"\u001b[39;00m\n\u001b[0;32m--> 392\u001b[0m     \u001b[38;5;28;01mreturn\u001b[39;00m \u001b[38;5;28;43mself\u001b[39;49m\u001b[38;5;241;43m.\u001b[39;49m\u001b[43mrun_circuits\u001b[49m\u001b[43m(\u001b[49m\n\u001b[1;32m    393\u001b[0m \u001b[43m        \u001b[49m\u001b[43m[\u001b[49m\u001b[43mcircuit\u001b[49m\u001b[43m]\u001b[49m\u001b[43m,\u001b[49m\u001b[43m \u001b[49m\u001b[43mn_shots\u001b[49m\u001b[38;5;241;43m=\u001b[39;49m\u001b[43mn_shots\u001b[49m\u001b[43m,\u001b[49m\u001b[43m \u001b[49m\u001b[43mvalid_check\u001b[49m\u001b[38;5;241;43m=\u001b[39;49m\u001b[43mvalid_check\u001b[49m\u001b[43m,\u001b[49m\u001b[43m \u001b[49m\u001b[38;5;241;43m*\u001b[39;49m\u001b[38;5;241;43m*\u001b[39;49m\u001b[43mkwargs\u001b[49m\n\u001b[1;32m    394\u001b[0m \u001b[43m    \u001b[49m\u001b[43m)\u001b[49m[\u001b[38;5;241m0\u001b[39m]\n",
      "File \u001b[0;32m/opt/.qbraid/environments/qbraid_000000/pyenv/lib/python3.9/site-packages/pytket/backends/backend.py:416\u001b[0m, in \u001b[0;36mBackend.run_circuits\u001b[0;34m(self, circuits, n_shots, valid_check, **kwargs)\u001b[0m\n\u001b[1;32m    396\u001b[0m \u001b[38;5;28;01mdef\u001b[39;00m \u001b[38;5;21mrun_circuits\u001b[39m(\n\u001b[1;32m    397\u001b[0m     \u001b[38;5;28mself\u001b[39m,\n\u001b[1;32m    398\u001b[0m     circuits: Sequence[Circuit],\n\u001b[0;32m   (...)\u001b[0m\n\u001b[1;32m    401\u001b[0m     \u001b[38;5;241m*\u001b[39m\u001b[38;5;241m*\u001b[39mkwargs: KwargTypes,\n\u001b[1;32m    402\u001b[0m ) \u001b[38;5;241m-\u001b[39m\u001b[38;5;241m>\u001b[39m List[BackendResult]:\n\u001b[1;32m    403\u001b[0m \u001b[38;5;250m    \u001b[39m\u001b[38;5;124;03m\"\"\"\u001b[39;00m\n\u001b[1;32m    404\u001b[0m \u001b[38;5;124;03m    Submits circuits to the backend and returns results\u001b[39;00m\n\u001b[1;32m    405\u001b[0m \n\u001b[0;32m   (...)\u001b[0m\n\u001b[1;32m    414\u001b[0m \u001b[38;5;124;03m    :py:meth:`Backend.process_circuits` and :py:meth:`Backend.get_results`.\u001b[39;00m\n\u001b[1;32m    415\u001b[0m \u001b[38;5;124;03m    \"\"\"\u001b[39;00m\n\u001b[0;32m--> 416\u001b[0m     handles \u001b[38;5;241m=\u001b[39m \u001b[38;5;28;43mself\u001b[39;49m\u001b[38;5;241;43m.\u001b[39;49m\u001b[43mprocess_circuits\u001b[49m\u001b[43m(\u001b[49m\u001b[43mcircuits\u001b[49m\u001b[43m,\u001b[49m\u001b[43m \u001b[49m\u001b[43mn_shots\u001b[49m\u001b[43m,\u001b[49m\u001b[43m \u001b[49m\u001b[43mvalid_check\u001b[49m\u001b[43m,\u001b[49m\u001b[43m \u001b[49m\u001b[38;5;241;43m*\u001b[39;49m\u001b[38;5;241;43m*\u001b[39;49m\u001b[43mkwargs\u001b[49m\u001b[43m)\u001b[49m\n\u001b[1;32m    417\u001b[0m     results \u001b[38;5;241m=\u001b[39m \u001b[38;5;28mself\u001b[39m\u001b[38;5;241m.\u001b[39mget_results(handles, \u001b[38;5;241m*\u001b[39m\u001b[38;5;241m*\u001b[39mkwargs)\n\u001b[1;32m    418\u001b[0m     \u001b[38;5;28;01mfor\u001b[39;00m h \u001b[38;5;129;01min\u001b[39;00m handles:\n",
      "File \u001b[0;32m/opt/.qbraid/environments/qbraid_000000/pyenv/lib/python3.9/site-packages/pytket/extensions/qiskit/backends/aer.py:494\u001b[0m, in \u001b[0;36mAerBackend.process_circuits\u001b[0;34m(self, circuits, n_shots, valid_check, **kwargs)\u001b[0m\n\u001b[1;32m    488\u001b[0m \u001b[38;5;66;03m# discard result but useful to validate n_shots\u001b[39;00m\n\u001b[1;32m    489\u001b[0m Backend\u001b[38;5;241m.\u001b[39m_get_n_shots_as_list(\n\u001b[1;32m    490\u001b[0m     n_shots,\n\u001b[1;32m    491\u001b[0m     \u001b[38;5;28mlen\u001b[39m(circuits),\n\u001b[1;32m    492\u001b[0m     optional\u001b[38;5;241m=\u001b[39m\u001b[38;5;28;01mFalse\u001b[39;00m,\n\u001b[1;32m    493\u001b[0m )\n\u001b[0;32m--> 494\u001b[0m \u001b[38;5;28;01mreturn\u001b[39;00m \u001b[38;5;28;43msuper\u001b[39;49m\u001b[43m(\u001b[49m\u001b[43m)\u001b[49m\u001b[38;5;241;43m.\u001b[39;49m\u001b[43mprocess_circuits\u001b[49m\u001b[43m(\u001b[49m\u001b[43mcircuits\u001b[49m\u001b[43m,\u001b[49m\u001b[43m \u001b[49m\u001b[43mn_shots\u001b[49m\u001b[43m,\u001b[49m\u001b[43m \u001b[49m\u001b[43mvalid_check\u001b[49m\u001b[43m,\u001b[49m\u001b[43m \u001b[49m\u001b[38;5;241;43m*\u001b[39;49m\u001b[38;5;241;43m*\u001b[39;49m\u001b[43mkwargs\u001b[49m\u001b[43m)\u001b[49m\n",
      "File \u001b[0;32m/opt/.qbraid/environments/qbraid_000000/pyenv/lib/python3.9/site-packages/pytket/extensions/qiskit/backends/aer.py:176\u001b[0m, in \u001b[0;36m_AerBaseBackend.process_circuits\u001b[0;34m(self, circuits, n_shots, valid_check, **kwargs)\u001b[0m\n\u001b[1;32m    173\u001b[0m     qcs\u001b[38;5;241m.\u001b[39mappend(qc)\n\u001b[1;32m    175\u001b[0m seed \u001b[38;5;241m=\u001b[39m cast(Optional[\u001b[38;5;28mint\u001b[39m], kwargs\u001b[38;5;241m.\u001b[39mget(\u001b[38;5;124m\"\u001b[39m\u001b[38;5;124mseed\u001b[39m\u001b[38;5;124m\"\u001b[39m))\n\u001b[0;32m--> 176\u001b[0m job \u001b[38;5;241m=\u001b[39m \u001b[38;5;28;43mself\u001b[39;49m\u001b[38;5;241;43m.\u001b[39;49m\u001b[43m_backend\u001b[49m\u001b[38;5;241;43m.\u001b[39;49m\u001b[43mrun\u001b[49m\u001b[43m(\u001b[49m\n\u001b[1;32m    177\u001b[0m \u001b[43m    \u001b[49m\u001b[43mqcs\u001b[49m\u001b[43m,\u001b[49m\n\u001b[1;32m    178\u001b[0m \u001b[43m    \u001b[49m\u001b[43mshots\u001b[49m\u001b[38;5;241;43m=\u001b[39;49m\u001b[43mn_shots\u001b[49m\u001b[43m,\u001b[49m\n\u001b[1;32m    179\u001b[0m \u001b[43m    \u001b[49m\u001b[43mmemory\u001b[49m\u001b[38;5;241;43m=\u001b[39;49m\u001b[38;5;28;43mself\u001b[39;49m\u001b[38;5;241;43m.\u001b[39;49m\u001b[43m_memory\u001b[49m\u001b[43m,\u001b[49m\n\u001b[1;32m    180\u001b[0m \u001b[43m    \u001b[49m\u001b[43mseed_simulator\u001b[49m\u001b[38;5;241;43m=\u001b[39;49m\u001b[43mseed\u001b[49m\u001b[43m,\u001b[49m\n\u001b[1;32m    181\u001b[0m \u001b[43m    \u001b[49m\u001b[43mnoise_model\u001b[49m\u001b[38;5;241;43m=\u001b[39;49m\u001b[38;5;28;43mself\u001b[39;49m\u001b[38;5;241;43m.\u001b[39;49m\u001b[43m_noise_model\u001b[49m\u001b[43m,\u001b[49m\n\u001b[1;32m    182\u001b[0m \u001b[43m\u001b[49m\u001b[43m)\u001b[49m\n\u001b[1;32m    183\u001b[0m jobid \u001b[38;5;241m=\u001b[39m job\u001b[38;5;241m.\u001b[39mjob_id()\n\u001b[1;32m    184\u001b[0m \u001b[38;5;28;01mfor\u001b[39;00m i, ind \u001b[38;5;129;01min\u001b[39;00m \u001b[38;5;28menumerate\u001b[39m(indices):\n",
      "File \u001b[0;32m/opt/.qbraid/environments/qbraid_000000/pyenv/lib/python3.9/site-packages/qiskit/utils/deprecation.py:28\u001b[0m, in \u001b[0;36mdeprecate_arguments.<locals>.decorator.<locals>.wrapper\u001b[0;34m(*args, **kwargs)\u001b[0m\n\u001b[1;32m     26\u001b[0m \u001b[38;5;28;01mif\u001b[39;00m kwargs:\n\u001b[1;32m     27\u001b[0m     _rename_kwargs(func\u001b[38;5;241m.\u001b[39m\u001b[38;5;18m__name__\u001b[39m, kwargs, kwarg_map, category)\n\u001b[0;32m---> 28\u001b[0m \u001b[38;5;28;01mreturn\u001b[39;00m \u001b[43mfunc\u001b[49m\u001b[43m(\u001b[49m\u001b[38;5;241;43m*\u001b[39;49m\u001b[43margs\u001b[49m\u001b[43m,\u001b[49m\u001b[43m \u001b[49m\u001b[38;5;241;43m*\u001b[39;49m\u001b[38;5;241;43m*\u001b[39;49m\u001b[43mkwargs\u001b[49m\u001b[43m)\u001b[49m\n",
      "File \u001b[0;32m/opt/.qbraid/environments/qbraid_000000/pyenv/lib/python3.9/site-packages/qiskit_aer/backends/aerbackend.py:187\u001b[0m, in \u001b[0;36mAerBackend.run\u001b[0;34m(self, circuits, validate, parameter_binds, **run_options)\u001b[0m\n\u001b[1;32m    185\u001b[0m     qobj \u001b[38;5;241m=\u001b[39m \u001b[38;5;28mself\u001b[39m\u001b[38;5;241m.\u001b[39m_assemble(circuits, \u001b[38;5;241m*\u001b[39m\u001b[38;5;241m*\u001b[39mrun_options)\n\u001b[1;32m    186\u001b[0m \u001b[38;5;28;01melse\u001b[39;00m:\n\u001b[0;32m--> 187\u001b[0m     qobj \u001b[38;5;241m=\u001b[39m \u001b[38;5;28;43mself\u001b[39;49m\u001b[38;5;241;43m.\u001b[39;49m\u001b[43m_assemble\u001b[49m\u001b[43m(\u001b[49m\u001b[43mcircuits\u001b[49m\u001b[43m,\u001b[49m\u001b[43m \u001b[49m\u001b[43mparameter_binds\u001b[49m\u001b[38;5;241;43m=\u001b[39;49m\u001b[43mparameter_binds\u001b[49m\u001b[43m,\u001b[49m\u001b[43m \u001b[49m\u001b[38;5;241;43m*\u001b[39;49m\u001b[38;5;241;43m*\u001b[39;49m\u001b[43mrun_options\u001b[49m\u001b[43m)\u001b[49m\n\u001b[1;32m    189\u001b[0m \u001b[38;5;66;03m# Optional validation\u001b[39;00m\n\u001b[1;32m    190\u001b[0m \u001b[38;5;28;01mif\u001b[39;00m validate:\n",
      "File \u001b[0;32m/opt/.qbraid/environments/qbraid_000000/pyenv/lib/python3.9/site-packages/qiskit_aer/backends/aerbackend.py:400\u001b[0m, in \u001b[0;36mAerBackend._assemble\u001b[0;34m(self, circuits, parameter_binds, **run_options)\u001b[0m\n\u001b[1;32m    398\u001b[0m             qobj \u001b[38;5;241m=\u001b[39m qobj_tmp\n\u001b[1;32m    399\u001b[0m \u001b[38;5;28;01melse\u001b[39;00m:\n\u001b[0;32m--> 400\u001b[0m     qobj \u001b[38;5;241m=\u001b[39m \u001b[43massemble\u001b[49m\u001b[43m(\u001b[49m\u001b[43mcircuits\u001b[49m\u001b[43m,\u001b[49m\u001b[43m \u001b[49m\u001b[43mbackend\u001b[49m\u001b[38;5;241;43m=\u001b[39;49m\u001b[38;5;28;43mself\u001b[39;49m\u001b[43m)\u001b[49m\n\u001b[1;32m    402\u001b[0m \u001b[38;5;66;03m# Add optypes to qobj\u001b[39;00m\n\u001b[1;32m    403\u001b[0m \u001b[38;5;66;03m# We convert to strings to avoid pybinding of types\u001b[39;00m\n\u001b[1;32m    404\u001b[0m qobj\u001b[38;5;241m.\u001b[39mconfig\u001b[38;5;241m.\u001b[39moptypes \u001b[38;5;241m=\u001b[39m [\n\u001b[1;32m    405\u001b[0m     \u001b[38;5;28mset\u001b[39m(i\u001b[38;5;241m.\u001b[39m\u001b[38;5;18m__name__\u001b[39m \u001b[38;5;28;01mfor\u001b[39;00m i \u001b[38;5;129;01min\u001b[39;00m optype) \u001b[38;5;28;01mif\u001b[39;00m optype \u001b[38;5;28;01melse\u001b[39;00m \u001b[38;5;28mset\u001b[39m()\n\u001b[1;32m    406\u001b[0m     \u001b[38;5;28;01mfor\u001b[39;00m optype \u001b[38;5;129;01min\u001b[39;00m optypes]\n",
      "File \u001b[0;32m/opt/.qbraid/environments/qbraid_000000/pyenv/lib/python3.9/site-packages/qiskit/compiler/assembler.py:208\u001b[0m, in \u001b[0;36massemble\u001b[0;34m(experiments, backend, qobj_id, qobj_header, shots, memory, max_credits, seed_simulator, qubit_lo_freq, meas_lo_freq, qubit_lo_range, meas_lo_range, schedule_los, meas_level, meas_return, meas_map, memory_slot_size, rep_time, rep_delay, parameter_binds, parametric_pulses, init_qubits, **run_config)\u001b[0m\n\u001b[1;32m    206\u001b[0m     end_time \u001b[38;5;241m=\u001b[39m time()\n\u001b[1;32m    207\u001b[0m     _log_assembly_time(start_time, end_time)\n\u001b[0;32m--> 208\u001b[0m     \u001b[38;5;28;01mreturn\u001b[39;00m \u001b[43massemble_circuits\u001b[49m\u001b[43m(\u001b[49m\n\u001b[1;32m    209\u001b[0m \u001b[43m        \u001b[49m\u001b[43mcircuits\u001b[49m\u001b[38;5;241;43m=\u001b[39;49m\u001b[43mbound_experiments\u001b[49m\u001b[43m,\u001b[49m\n\u001b[1;32m    210\u001b[0m \u001b[43m        \u001b[49m\u001b[43mqobj_id\u001b[49m\u001b[38;5;241;43m=\u001b[39;49m\u001b[43mqobj_id\u001b[49m\u001b[43m,\u001b[49m\n\u001b[1;32m    211\u001b[0m \u001b[43m        \u001b[49m\u001b[43mqobj_header\u001b[49m\u001b[38;5;241;43m=\u001b[39;49m\u001b[43mqobj_header\u001b[49m\u001b[43m,\u001b[49m\n\u001b[1;32m    212\u001b[0m \u001b[43m        \u001b[49m\u001b[43mrun_config\u001b[49m\u001b[38;5;241;43m=\u001b[39;49m\u001b[43mrun_config\u001b[49m\u001b[43m,\u001b[49m\n\u001b[1;32m    213\u001b[0m \u001b[43m    \u001b[49m\u001b[43m)\u001b[49m\n\u001b[1;32m    215\u001b[0m \u001b[38;5;28;01melif\u001b[39;00m \u001b[38;5;28mall\u001b[39m(\u001b[38;5;28misinstance\u001b[39m(exp, (ScheduleBlock, Schedule, Instruction)) \u001b[38;5;28;01mfor\u001b[39;00m exp \u001b[38;5;129;01min\u001b[39;00m experiments):\n\u001b[1;32m    216\u001b[0m     run_config \u001b[38;5;241m=\u001b[39m _parse_pulse_args(\n\u001b[1;32m    217\u001b[0m         backend,\n\u001b[1;32m    218\u001b[0m         meas_level,\n\u001b[0;32m   (...)\u001b[0m\n\u001b[1;32m    224\u001b[0m         \u001b[38;5;241m*\u001b[39m\u001b[38;5;241m*\u001b[39mrun_config_common_dict,\n\u001b[1;32m    225\u001b[0m     )\n",
      "File \u001b[0;32m/opt/.qbraid/environments/qbraid_000000/pyenv/lib/python3.9/site-packages/qiskit/assembler/assemble_circuits.py:317\u001b[0m, in \u001b[0;36massemble_circuits\u001b[0;34m(circuits, run_config, qobj_id, qobj_header)\u001b[0m\n\u001b[1;32m    305\u001b[0m \u001b[38;5;250m\u001b[39m\u001b[38;5;124;03m\"\"\"Assembles a list of circuits into a qobj that can be run on the backend.\u001b[39;00m\n\u001b[1;32m    306\u001b[0m \n\u001b[1;32m    307\u001b[0m \u001b[38;5;124;03mArgs:\u001b[39;00m\n\u001b[0;32m   (...)\u001b[0m\n\u001b[1;32m    314\u001b[0m \u001b[38;5;124;03m    The qobj to be run on the backends\u001b[39;00m\n\u001b[1;32m    315\u001b[0m \u001b[38;5;124;03m\"\"\"\u001b[39;00m\n\u001b[1;32m    316\u001b[0m \u001b[38;5;66;03m# assemble the circuit experiments\u001b[39;00m\n\u001b[0;32m--> 317\u001b[0m experiments_and_pulse_libs \u001b[38;5;241m=\u001b[39m \u001b[43mparallel_map\u001b[49m\u001b[43m(\u001b[49m\u001b[43m_assemble_circuit\u001b[49m\u001b[43m,\u001b[49m\u001b[43m \u001b[49m\u001b[43mcircuits\u001b[49m\u001b[43m,\u001b[49m\u001b[43m \u001b[49m\u001b[43m[\u001b[49m\u001b[43mrun_config\u001b[49m\u001b[43m]\u001b[49m\u001b[43m)\u001b[49m\n\u001b[1;32m    318\u001b[0m experiments \u001b[38;5;241m=\u001b[39m []\n\u001b[1;32m    319\u001b[0m pulse_library \u001b[38;5;241m=\u001b[39m {}\n",
      "File \u001b[0;32m/opt/.qbraid/environments/qbraid_000000/pyenv/lib/python3.9/site-packages/qiskit/tools/parallel.py:144\u001b[0m, in \u001b[0;36mparallel_map\u001b[0;34m(task, values, task_args, task_kwargs, num_processes)\u001b[0m\n\u001b[1;32m    142\u001b[0m     \u001b[38;5;28;01mreturn\u001b[39;00m []\n\u001b[1;32m    143\u001b[0m \u001b[38;5;28;01mif\u001b[39;00m \u001b[38;5;28mlen\u001b[39m(values) \u001b[38;5;241m==\u001b[39m \u001b[38;5;241m1\u001b[39m:\n\u001b[0;32m--> 144\u001b[0m     \u001b[38;5;28;01mreturn\u001b[39;00m [\u001b[43mtask\u001b[49m\u001b[43m(\u001b[49m\u001b[43mvalues\u001b[49m\u001b[43m[\u001b[49m\u001b[38;5;241;43m0\u001b[39;49m\u001b[43m]\u001b[49m\u001b[43m,\u001b[49m\u001b[43m \u001b[49m\u001b[38;5;241;43m*\u001b[39;49m\u001b[43mtask_args\u001b[49m\u001b[43m,\u001b[49m\u001b[43m \u001b[49m\u001b[38;5;241;43m*\u001b[39;49m\u001b[38;5;241;43m*\u001b[39;49m\u001b[43mtask_kwargs\u001b[49m\u001b[43m)\u001b[49m]\n\u001b[1;32m    146\u001b[0m Publisher()\u001b[38;5;241m.\u001b[39mpublish(\u001b[38;5;124m\"\u001b[39m\u001b[38;5;124mterra.parallel.start\u001b[39m\u001b[38;5;124m\"\u001b[39m, \u001b[38;5;28mlen\u001b[39m(values))\n\u001b[1;32m    147\u001b[0m nfinished \u001b[38;5;241m=\u001b[39m [\u001b[38;5;241m0\u001b[39m]\n",
      "File \u001b[0;32m/opt/.qbraid/environments/qbraid_000000/pyenv/lib/python3.9/site-packages/qiskit/assembler/assemble_circuits.py:127\u001b[0m, in \u001b[0;36m_assemble_circuit\u001b[0;34m(circuit, run_config)\u001b[0m\n\u001b[1;32m    125\u001b[0m cargs \u001b[38;5;241m=\u001b[39m op_context\u001b[38;5;241m.\u001b[39mclbits\n\u001b[1;32m    126\u001b[0m \u001b[38;5;28;01mif\u001b[39;00m qargs:\n\u001b[0;32m--> 127\u001b[0m     instruction\u001b[38;5;241m.\u001b[39mqubits \u001b[38;5;241m=\u001b[39m [qubit_indices[qubit] \u001b[38;5;28;01mfor\u001b[39;00m qubit \u001b[38;5;129;01min\u001b[39;00m qargs]\n\u001b[1;32m    128\u001b[0m \u001b[38;5;28;01mif\u001b[39;00m cargs:\n\u001b[1;32m    129\u001b[0m     instruction\u001b[38;5;241m.\u001b[39mmemory \u001b[38;5;241m=\u001b[39m [clbit_indices[clbit] \u001b[38;5;28;01mfor\u001b[39;00m clbit \u001b[38;5;129;01min\u001b[39;00m cargs]\n",
      "File \u001b[0;32m/opt/.qbraid/environments/qbraid_000000/pyenv/lib/python3.9/site-packages/qiskit/assembler/assemble_circuits.py:127\u001b[0m, in \u001b[0;36m<listcomp>\u001b[0;34m(.0)\u001b[0m\n\u001b[1;32m    125\u001b[0m cargs \u001b[38;5;241m=\u001b[39m op_context\u001b[38;5;241m.\u001b[39mclbits\n\u001b[1;32m    126\u001b[0m \u001b[38;5;28;01mif\u001b[39;00m qargs:\n\u001b[0;32m--> 127\u001b[0m     instruction\u001b[38;5;241m.\u001b[39mqubits \u001b[38;5;241m=\u001b[39m [\u001b[43mqubit_indices\u001b[49m\u001b[43m[\u001b[49m\u001b[43mqubit\u001b[49m\u001b[43m]\u001b[49m \u001b[38;5;28;01mfor\u001b[39;00m qubit \u001b[38;5;129;01min\u001b[39;00m qargs]\n\u001b[1;32m    128\u001b[0m \u001b[38;5;28;01mif\u001b[39;00m cargs:\n\u001b[1;32m    129\u001b[0m     instruction\u001b[38;5;241m.\u001b[39mmemory \u001b[38;5;241m=\u001b[39m [clbit_indices[clbit] \u001b[38;5;28;01mfor\u001b[39;00m clbit \u001b[38;5;129;01min\u001b[39;00m cargs]\n",
      "File \u001b[0;32m/opt/.qbraid/environments/qbraid_000000/pyenv/lib/python3.9/site-packages/qiskit/circuit/bit.py:94\u001b[0m, in \u001b[0;36mBit.__hash__\u001b[0;34m(self)\u001b[0m\n\u001b[1;32m     91\u001b[0m         \u001b[38;5;28;01mreturn\u001b[39;00m \u001b[38;5;28mobject\u001b[39m\u001b[38;5;241m.\u001b[39m\u001b[38;5;21m__repr__\u001b[39m(\u001b[38;5;28mself\u001b[39m)\n\u001b[1;32m     92\u001b[0m     \u001b[38;5;28;01mreturn\u001b[39;00m \u001b[38;5;28mself\u001b[39m\u001b[38;5;241m.\u001b[39m_repr\n\u001b[0;32m---> 94\u001b[0m \u001b[38;5;28;01mdef\u001b[39;00m \u001b[38;5;21m__hash__\u001b[39m(\u001b[38;5;28mself\u001b[39m):\n\u001b[1;32m     95\u001b[0m     \u001b[38;5;28;01mreturn\u001b[39;00m \u001b[38;5;28mself\u001b[39m\u001b[38;5;241m.\u001b[39m_hash\n\u001b[1;32m     97\u001b[0m \u001b[38;5;28;01mdef\u001b[39;00m \u001b[38;5;21m__eq__\u001b[39m(\u001b[38;5;28mself\u001b[39m, other):\n",
      "\u001b[0;31mKeyboardInterrupt\u001b[0m: "
     ]
    }
   ],
   "source": [
    "%%time\n",
    "res = qaoa_calculate(backend, backend.default_compilation_pass(2).apply, shots = 5000, iterations = 100, seed=12345)"
   ]
  },
  {
   "cell_type": "code",
   "execution_count": 24,
   "id": "3b86301e-7645-4553-be38-3ebf89eedd37",
   "metadata": {},
   "outputs": [],
   "source": [
    "from maxcut_plotting import plot_maxcut_results\n",
    "\n",
    "# plot_maxcut_results(res, 6)"
   ]
  },
  {
   "cell_type": "markdown",
   "id": "6e36c4fb-a118-4ab8-be01-77a674f273e3",
   "metadata": {},
   "source": [
    "Here the binary strings in the results correspond to the two optimal colourings of our graph."
   ]
  },
  {
   "cell_type": "code",
   "execution_count": null,
   "id": "ffce2a97-902c-44d8-8d64-b25498752907",
   "metadata": {},
   "outputs": [],
   "source": [
    "G = nx.Graph()\n",
    "G.add_edges_from(max_cut_graph_edges)\n",
    "\n",
    "H = nx.Graph()\n",
    "H.add_edges_from(max_cut_graph_edges)\n",
    "\n",
    "plt.figure(1)\n",
    "nx.draw(G, labels={node: node for node in max_cut_graph.nodes()}, node_color= ['red', 'blue', 'red','red', 'blue', 'red', 'red'])\n",
    "plt.figure(2)\n",
    "nx.draw(H, labels={node: node for node in max_cut_graph.nodes()}, node_color= ['blue', 'red', 'blue', 'blue', 'red', 'blue', 'blue'])\n",
    "\n",
    "plt.show()"
   ]
  },
  {
   "cell_type": "markdown",
   "id": "cf355f7c-807a-44f2-a9ec-f80f36aff509",
   "metadata": {
    "jp-MarkdownHeadingCollapsed": true,
    "tags": []
   },
   "source": [
    "# Testing"
   ]
  },
  {
   "cell_type": "code",
   "execution_count": 25,
   "id": "8ca10816-d480-4f7c-b7ad-4ead5cfcfff6",
   "metadata": {},
   "outputs": [
    {
     "name": "stdout",
     "output_type": "stream",
     "text": [
      "Success ratio 0.4692 \n"
     ]
    },
    {
     "data": {
      "image/png": "[encoded data removed]",
      "text/plain": [
       "<Figure size 432x288 with 1 Axes>"
      ]
     },
     "metadata": {
      "needs_background": "light"
     },
     "output_type": "display_data"
    }
   ],
   "source": [
    "# find the parameters for the highest energy\n",
    "best_mixer, best_cost = [ 0.31411987,  0.10766917,  0.76770651,  0.37113986,  0.15591169], [0.18616135,  0.38850817,  0.29418782, -0.07323312,  0.50543627]\n",
    "    \n",
    "# get the circuit with the final parameters of the optimisation:\n",
    "circuit = qaoa_max_cut_circuit(max_cut_graph_edges,\n",
    "                                       n_nodes,\n",
    "                                       best_mixer,\n",
    "                                       best_cost)\n",
    "\n",
    "circuit.measure_all()\n",
    "\n",
    "backend.default_compilation_pass(2).apply(circuit)\n",
    "handle = backend.process_circuit(circuit, 5000, seed=12345)\n",
    "\n",
    "result = backend.get_result(handle)    \n",
    "\n",
    "plot_maxcut_results(result, 6)"
   ]
  }
 ],
 "metadata": {
  "celltoolbar": "Slideshow",
  "kernelspec": {
   "display_name": "Python 3 [Default]",
   "language": "python",
   "name": "python3"
  },
  "language_info": {
   "codemirror_mode": {
    "name": "ipython",
    "version": 3
   },
   "file_extension": ".py",
   "mimetype": "text/x-python",
   "name": "python",
   "nbconvert_exporter": "python",
   "pygments_lexer": "ipython3",
   "version": "3.9.10"
  },
  "vscode": {
   "interpreter": {
    "hash": "3289aa74b4cc5b65254d7b081e6c83acb4efa1b1c1d2fe845644451ee4b44b02"
   }
  }
 },
 "nbformat": 4,
 "nbformat_minor": 5
}
